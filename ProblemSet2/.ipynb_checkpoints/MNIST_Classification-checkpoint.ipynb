{
 "cells": [
  {
   "cell_type": "markdown",
   "metadata": {},
   "source": [
    "## <div style=\"text-align: right\"> Mayank Pathak </div>\n",
    "# Problem Set 2\n",
    "## Question 1 \n",
    "### Classifying MNIST Handwriting Dataset "
   ]
  },
  {
   "cell_type": "markdown",
   "metadata": {},
   "source": [
    "### October 08, 2018\n",
    "\n",
    "- 1. **Introduction** \n",
    "    - 1.1 Importing Necessary libraries\n",
    "    - 1.2 Defining Hyper-Parameters\n",
    "- 2. **Data Preparation**\n",
    "    - 2.1  Load Data\n",
    "    - 2.2  Reshaping Input Images\n",
    "    - 2.3  Normalize Images \n",
    "    - 2.4  Show Sample Training Images and Labels\n",
    "- 3. **Neural Network**\n",
    "    - 3.1 Define Activation Function \n",
    "    - 3.2 Define the Model\n",
    "    - 3.3 Set the optimizer\n",
    "    - 3.4 Fit the Training Data\n",
    "- 4. **Evaluate Model**\n",
    "    - 4.1 Evaluate the metwork with test data\n",
    "    - 4.2 Plot Accuracy and Loss curves"
   ]
  },
  {
   "cell_type": "markdown",
   "metadata": {},
   "source": [
    "### 1. Introduction\n",
    "\n",
    "#### 1.1 Importing necessary libraries:\n",
    "Libraries used for to create this network:\n",
    "    1. numpy\n",
    "    2. matplotlib\n",
    "    3. keras\n",
    "    4. sci-kit learn"
   ]
  },
  {
   "cell_type": "code",
   "execution_count": 2,
   "metadata": {},
   "outputs": [
    {
     "name": "stderr",
     "output_type": "stream",
     "text": [
      "Using TensorFlow backend.\n"
     ]
    }
   ],
   "source": [
    "import keras\n",
    "import numpy as np\n",
    "import matplotlib.pyplot as plt\n",
    "\n",
    "from keras.models import Sequential\n",
    "from keras import backend \n",
    "from keras.optimizers import Adam ,RMSprop\n",
    "from keras.layers import Conv2D, MaxPooling2D\n",
    "from keras.utils.np_utils import to_categorical\n",
    "from sklearn.model_selection import train_test_split\n",
    "from keras.layers import Dense, Dropout, Lambda, Flatten, Activation, Dropout\n",
    "\n",
    "%matplotlib inline"
   ]
  },
  {
   "cell_type": "markdown",
   "metadata": {},
   "source": [
    "#### 1.2 Defining Hyper-Parameters and Initializing variables\n",
    "The Hyper-Parameters for this model are:\n",
    "\n",
    "    1. epochs\n",
    "    2. batch size\n",
    "    3. number of classes\n",
    "    4. learning rate\n",
    "    5. kernel size\n",
    "    6. pool size\n",
    "    7. optimizer"
   ]
  },
  {
   "cell_type": "code",
   "execution_count": 3,
   "metadata": {},
   "outputs": [],
   "source": [
    "# Number of epochs: initialized to 6 \n",
    "epochs = 8\n",
    "\n",
    "# Batch size per training iteration\n",
    "batch_size = 128\n",
    "\n",
    "# Number of classes the data can be trained \n",
    "numClasses = 10\n",
    "\n",
    "# Learning Rate: initialized to 0.001\n",
    "learning_rate = 0.001\n",
    "\n",
    "# Kernel Size for Convolution: initialized to (3,3)\n",
    "kernel_size = (3, 3)\n",
    "\n",
    "# Pool Size for max pooling\n",
    "pool_size = (2, 2)\n",
    "\n",
    "# Define the optimizer\n",
    "optimizer = Adam(lr=learning_rate, epsilon=1e-08, decay=0.0)\n",
    "\n",
    "np.random.random_sample()\n",
    "# image size given in the dataset\n",
    "img_rows, img_cols = 28,28\n",
    "\n",
    "# Specifying backend image format to make sure that we are working\n",
    "# on the correct format of input data\n",
    "backend.set_image_data_format('channels_last')"
   ]
  },
  {
   "cell_type": "markdown",
   "metadata": {},
   "source": [
    "### 2. Data Preparation\n",
    "\n",
    "#### 2.1 Load Data\n",
    "The input images and labels are loaded using 'np.load' function to load the '.npy' files provided with the homework assignment. <br>\n",
    "\n",
    "> Number of Training Images: 60000 <br>\n",
    "> Number of Test Images: 10000\n",
    "    "
   ]
  },
  {
   "cell_type": "code",
   "execution_count": 4,
   "metadata": {},
   "outputs": [],
   "source": [
    "# loading training and test images from the given .npy files\n",
    "trainImages = np.load('MNIST/trainImages.npy')\n",
    "testImages = np.load('MNIST/testImages.npy')\n",
    "\n",
    "# loading training and test labels from the given .npy files\n",
    "trainLabels = np.load('MNIST/trainLabels.npy')\n",
    "testLabels = np.load('MNIST/testLabels.npy')"
   ]
  },
  {
   "cell_type": "markdown",
   "metadata": {},
   "source": [
    "#### 2.2 Reshaping Input Images\n",
    "Input images are reshaped to put channels at the end. <br>\n",
    "The shape now is:\n",
    "> TrainImages shape: (60000,28,28,1) <br>\n",
    "> TestImages shape: (10000,28,28,1)\n",
    "\n",
    "#### 2.3 Normalizing Image\n",
    "Then, the image type is converted to float32 from uint8 to increase precision and image pixel values are normalized w.r.t. 255, i.e. the maximum pixel intensity."
   ]
  },
  {
   "cell_type": "code",
   "execution_count": 5,
   "metadata": {},
   "outputs": [],
   "source": [
    "trainImages = trainImages.reshape(trainImages.shape[0], img_rows, img_cols, 1)\n",
    "testImages = testImages.reshape(testImages.shape[0], img_rows, img_cols, 1)\n",
    "input_shape = (img_rows, img_cols, 1)\n",
    "\n",
    "# converting the type of image from unit8 to float32\n",
    "trainImages = trainImages.astype('float32')\n",
    "testImages = testImages.astype('float32')\n",
    "\n",
    "# Normalizing the input images to make the pixel values between 0 and 1.\n",
    "trainImages /= 255\n",
    "testImages /= 255"
   ]
  },
  {
   "cell_type": "markdown",
   "metadata": {},
   "source": [
    "#### 2.4 Show Sample Training Images\n",
    "\n",
    "First 15 images are shown with their labels"
   ]
  },
  {
   "cell_type": "code",
   "execution_count": 6,
   "metadata": {},
   "outputs": [
    {
     "data": {
      "image/png": "[encoded data removed]",
      "text/plain": [
       "<Figure size 720x576 with 15 Axes>"
      ]
     },
     "metadata": {},
     "output_type": "display_data"
    }
   ],
   "source": [
    "plt.figure(figsize=(10,8))\n",
    "plt.subplots_adjust(wspace=0.6, hspace=0.4)\n",
    "# figure\n",
    "x, y = 5, 3\n",
    "for i in range(x*y):  \n",
    "    plt.subplot(y, x, i+1)\n",
    "    plt.imshow(trainImages[i][:,:,0], interpolation='nearest', cmap='gray')\n",
    "    plt.title(np.argwhere(trainLabels[i]>0)[0][0])   \n",
    "plt.show()"
   ]
  },
  {
   "cell_type": "markdown",
   "metadata": {},
   "source": [
    "### 3. Neural Network\n",
    "\n",
    "#### 3.1  Define Activation Function \n",
    "The activation function for this Convolution Neural Network is choosen as 'softmax'. \n",
    "It is used because we have multiple classes in this network.\n",
    "\n",
    "Relu is used as activation function for other hidden layers as it applies element-wise activation, leaving the layer volume same.\n",
    "#### 3.2 Define the Model\n",
    "The CNN is made of 5 layers, defined as follows:\n",
    "> 1. Convolution layer of kernel size (3,3), with activation function 'relu'\n",
    "> 2. Convolution layer of kernel size (3,3), with activation function 'relu'\n",
    "> 3. Max Pooling layer to down sample the image representation. pool size of (2,2)\n",
    "> 4. A fully connected Layer, with activation function 'relu'\n",
    "> 5. Output Layer: A fully connected Layer, with activation function 'softmax'\n",
    "\n",
    "Dropout is added to help introduce redundancy into the model. After trying different values, I have taken 0.25 as dropout value for the fully connected networks.\n"
   ]
  },
  {
   "cell_type": "code",
   "execution_count": 7,
   "metadata": {},
   "outputs": [],
   "source": [
    "model = Sequential()\n",
    "model.add(Conv2D(32, kernel_size=kernel_size,\n",
    "                 activation='relu',\n",
    "                 input_shape=input_shape))\n",
    "model.add(Conv2D(64, kernel_size=kernel_size, activation='relu'))\n",
    "# To reduce size\n",
    "model.add(MaxPooling2D(pool_size=pool_size))\n",
    "model.add(Dense(128, activation='relu'))\n",
    "model.add(Dropout(0.25))\n",
    "model.add(Flatten())\n",
    "model.add(Dropout(0.25))\n",
    "model.add(Dense(numClasses, activation='softmax'))\n",
    "\n",
    "# Previous Results\n",
    "# With optimizer = Adam, Dropout 0.5, epochs = 6, Test loss: 0.06070842666348117, Test accuracy: 0.9838\n",
    "# With optimizer = RMSprop, Dropout 0.25, epochs = 6, Test loss: 0.05778288595510549, Test accuracy: 0.9841\n"
   ]
  },
  {
   "cell_type": "markdown",
   "metadata": {},
   "source": [
    "#### 3.3 Set the optimizer\n",
    "Adam optimizer is used with learning rate 0.001, epsilon = 1e-08.\n",
    "Adam is used because it converges fast and uses adaptive learning rate. It also overcomes the problems of slow convergence, vanishing learning rate and fluctuating loss function."
   ]
  },
  {
   "cell_type": "code",
   "execution_count": 8,
   "metadata": {},
   "outputs": [],
   "source": [
    "model.compile(loss=keras.losses.categorical_crossentropy,\n",
    "              optimizer=optimizer,\n",
    "              metrics=['accuracy'])\n",
    "\n",
    "# Results with other optimizers\n",
    "# RMSprop"
   ]
  },
  {
   "cell_type": "markdown",
   "metadata": {},
   "source": [
    "#### 3.4 Fit the Training Data\n",
    "Fitting the data on the model created, with the hyper-parameters defined earlier. \n",
    "Here, instead of creating a different set for validation, I have used the testing data set ot validate data."
   ]
  },
  {
   "cell_type": "code",
   "execution_count": 9,
   "metadata": {},
   "outputs": [
    {
     "name": "stdout",
     "output_type": "stream",
     "text": [
      "Train on 60000 samples, validate on 10000 samples\n",
      "Epoch 1/8\n",
      "60000/60000 [==============================] - 85s 1ms/step - loss: 0.1961 - acc: 0.9445 - val_loss: 0.0587 - val_acc: 0.9811\n",
      "Epoch 2/8\n",
      "60000/60000 [==============================] - 85s 1ms/step - loss: 0.0590 - acc: 0.9819 - val_loss: 0.0410 - val_acc: 0.9861\n",
      "Epoch 3/8\n",
      "60000/60000 [==============================] - 84s 1ms/step - loss: 0.0442 - acc: 0.9860 - val_loss: 0.0354 - val_acc: 0.9875\n",
      "Epoch 4/8\n",
      "60000/60000 [==============================] - 84s 1ms/step - loss: 0.0364 - acc: 0.9888 - val_loss: 0.0408 - val_acc: 0.9869\n",
      "Epoch 5/8\n",
      "60000/60000 [==============================] - 84s 1ms/step - loss: 0.0305 - acc: 0.9903 - val_loss: 0.0383 - val_acc: 0.9884\n",
      "Epoch 6/8\n",
      "60000/60000 [==============================] - 84s 1ms/step - loss: 0.0269 - acc: 0.9910 - val_loss: 0.0372 - val_acc: 0.9879\n",
      "Epoch 7/8\n",
      "60000/60000 [==============================] - 87s 1ms/step - loss: 0.0244 - acc: 0.9922 - val_loss: 0.0400 - val_acc: 0.9879\n",
      "Epoch 8/8\n",
      "60000/60000 [==============================] - 86s 1ms/step - loss: 0.0208 - acc: 0.9934 - val_loss: 0.0394 - val_acc: 0.9891\n"
     ]
    }
   ],
   "source": [
    "history = model.fit(trainImages, trainLabels,\n",
    "          batch_size=batch_size,\n",
    "          epochs=epochs,\n",
    "          verbose=1,\n",
    "          validation_data=(testImages, testLabels))"
   ]
  },
  {
   "cell_type": "markdown",
   "metadata": {},
   "source": [
    "### 4. Evaluate Model\n",
    "\n",
    "#### 4.1 Evaluate the metwork with test data"
   ]
  },
  {
   "cell_type": "code",
   "execution_count": 10,
   "metadata": {},
   "outputs": [
    {
     "name": "stdout",
     "output_type": "stream",
     "text": [
      "Test loss: 0.039370393263766894\n",
      "Test accuracy: 0.9891\n"
     ]
    }
   ],
   "source": [
    "score = model.evaluate(testImages, testLabels, verbose=0)\n",
    "print('Test loss:', score[0])\n",
    "print('Test accuracy:', score[1])"
   ]
  },
  {
   "cell_type": "markdown",
   "metadata": {},
   "source": [
    "#### 4.2 Plot Accuracy and Loss curves"
   ]
  },
  {
   "cell_type": "code",
   "execution_count": 11,
   "metadata": {},
   "outputs": [
    {
     "name": "stdout",
     "output_type": "stream",
     "text": [
      "dict_keys(['val_loss', 'val_acc', 'loss', 'acc'])\n"
     ]
    },
    {
     "data": {
      "image/png": "[encoded data removed]",
      "text/plain": [
       "<Figure size 432x288 with 1 Axes>"
      ]
     },
     "metadata": {},
     "output_type": "display_data"
    },
    {
     "data": {
      "image/png": "[encoded data removed]",
      "text/plain": [
       "<Figure size 432x288 with 1 Axes>"
      ]
     },
     "metadata": {},
     "output_type": "display_data"
    },
    {
     "name": "stdout",
     "output_type": "stream",
     "text": [
      "_________________________________________________________________\n",
      "Layer (type)                 Output Shape              Param #   \n",
      "=================================================================\n",
      "conv2d_1 (Conv2D)            (None, 26, 26, 32)        320       \n",
      "_________________________________________________________________\n",
      "conv2d_2 (Conv2D)            (None, 24, 24, 64)        18496     \n",
      "_________________________________________________________________\n",
      "max_pooling2d_1 (MaxPooling2 (None, 12, 12, 64)        0         \n",
      "_________________________________________________________________\n",
      "dense_1 (Dense)              (None, 12, 12, 128)       8320      \n",
      "_________________________________________________________________\n",
      "dropout_1 (Dropout)          (None, 12, 12, 128)       0         \n",
      "_________________________________________________________________\n",
      "flatten_1 (Flatten)          (None, 18432)             0         \n",
      "_________________________________________________________________\n",
      "dropout_2 (Dropout)          (None, 18432)             0         \n",
      "_________________________________________________________________\n",
      "dense_2 (Dense)              (None, 10)                184330    \n",
      "=================================================================\n",
      "Total params: 211,466\n",
      "Trainable params: 211,466\n",
      "Non-trainable params: 0\n",
      "_________________________________________________________________\n"
     ]
    }
   ],
   "source": [
    "# list all data in history\n",
    "print(history.history.keys())\n",
    "# summarize history for accuracy\n",
    "plt.plot(history.history['acc'])\n",
    "plt.plot(history.history['val_acc'])\n",
    "plt.title('model accuracy')\n",
    "plt.ylabel('accuracy')\n",
    "plt.xlabel('epochs')\n",
    "plt.legend(['train', 'test'], loc='upper left')\n",
    "plt.show()\n",
    "# summarize history for loss\n",
    "plt.plot(history.history['loss'])\n",
    "plt.plot(history.history['val_loss'])\n",
    "plt.title('model loss')\n",
    "plt.ylabel('loss')\n",
    "plt.xlabel('epoch')\n",
    "plt.legend(['train', 'test'], loc='upper left')\n",
    "plt.show()\n",
    "\n",
    "model.summary()"
   ]
  }
 ],
 "metadata": {
  "kernelspec": {
   "display_name": "Python 3",
   "language": "python",
   "name": "python3"
  },
  "language_info": {
   "codemirror_mode": {
    "name": "ipython",
    "version": 3
   },
   "file_extension": ".py",
   "mimetype": "text/x-python",
   "name": "python",
   "nbconvert_exporter": "python",
   "pygments_lexer": "ipython3",
   "version": "3.6.5"
  }
 },
 "nbformat": 4,
 "nbformat_minor": 2
}
