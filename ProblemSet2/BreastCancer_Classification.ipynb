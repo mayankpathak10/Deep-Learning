{
 "cells": [
  {
   "cell_type": "markdown",
   "metadata": {},
   "source": [
    "## <div style=\"text-align: right\"> Mayank Pathak </div>\n",
    "# Problem Set 2\n",
    "## Question 3 \n",
    "### Classifying Breast Cancer Dataset "
   ]
  },
  {
   "cell_type": "markdown",
   "metadata": {},
   "source": [
    "### October 08, 2018\n",
    "\n",
    "- 1. **Introduction** \n",
    "    - 1.1 Importing Necessary libraries\n",
    "    - 1.2 Defining Hyper-Parameters\n",
    "- 2. **Data Preparation**\n",
    "    - 2.1  Load Data\n",
    "- 3. **Neural Network**\n",
    "    - 3.1 Define Activation Function \n",
    "    - 3.2 Define the Model\n",
    "    - 3.3 Set the optimizer\n",
    "    - 3.4 Fit the Training Data\n",
    "- 4. **Evaluate Model**\n",
    "    - 4.1 Evaluate the metwork with test data\n",
    "    - 4.2 Plot Accuracy and Loss curves"
   ]
  },
  {
   "cell_type": "markdown",
   "metadata": {},
   "source": [
    "### 1. Introduction\n",
    "\n",
    "#### 1.1 Importing necessary libraries:\n",
    "Libraries used for to create this network:\n",
    "    1. numpy\n",
    "    2. pandas \n",
    "    3. matplotlib\n",
    "    4. keras\n",
    "    5. sci-kit learn"
   ]
  },
  {
   "cell_type": "code",
   "execution_count": 34,
   "metadata": {},
   "outputs": [],
   "source": [
    "import keras\n",
    "import numpy as np\n",
    "import pandas as pd \n",
    "import matplotlib.pyplot as plt\n",
    "\n",
    "from keras.models import Sequential\n",
    "from keras.optimizers import Adam ,RMSprop\n",
    "from sklearn.model_selection import train_test_split\n",
    "from keras.preprocessing.image import ImageDataGenerator\n",
    "from keras.layers import Dense, Dropout, Lambda, Flatten, Activation, Dropout\n",
    "%matplotlib inline\n"
   ]
  },
  {
   "cell_type": "markdown",
   "metadata": {},
   "source": [
    "#### 1.2 Defining Hyper-Parameters and Initializing variables\n",
    "The Hyper-Parameters for this model are:\n",
    "\n",
    "    1. epochs\n",
    "    2. batch size\n",
    "    4. learning rate\n",
    "    7. optimizer"
   ]
  },
  {
   "cell_type": "code",
   "execution_count": 35,
   "metadata": {},
   "outputs": [],
   "source": [
    "# Number of epochs: initialized to 100 \n",
    "epochs = 100\n",
    "\n",
    "# Batch size per training iteration\n",
    "batch_size = 1\n",
    "\n",
    "# Learning Rate: initialized to 0.001\n",
    "learning_rate = 0.001\n",
    "\n",
    "# Define the optimizer\n",
    "optimizer = RMSprop(lr = learning_rate)"
   ]
  },
  {
   "cell_type": "markdown",
   "metadata": {},
   "source": [
    "### 2. Data Preparation\n",
    "\n",
    "#### 2.1 Load Data\n",
    "The input data and labels are loaded using 'pd.read_csv' function to load the '.csv' files provided with the homework assignment. <br>\n",
    "\n",
    "The data is then divided into training and testing with a test size of 15%."
   ]
  },
  {
   "cell_type": "code",
   "execution_count": 36,
   "metadata": {},
   "outputs": [],
   "source": [
    "# loading training and test datasets\n",
    "inputData = pd.read_csv(\"Breast Cancer/breastCancerData.csv\")\n",
    "inputLabels = pd.read_csv(\"Breast Cancer/breastCancerLabels.csv\")\n",
    "\n",
    "trainData, testData, trainLabels, testLabels = train_test_split(inputData, inputLabels, test_size=0.15)\n",
    "\n",
    "# Splitting into validation and training data\n",
    "trainData, valData, trainLabels, valLabels = train_test_split(trainData, trainLabels, test_size=0.10)\n"
   ]
  },
  {
   "cell_type": "markdown",
   "metadata": {},
   "source": [
    "### 3. Neural Network\n",
    "\n",
    "#### 3.1 Define the Model\n",
    "The CNN is made of 4 fully connected layers. All hidden layers using 'relu' as activation function, and the output layer using 'sigmoid' as activating function, because the output desired from this network is binary.\n",
    "\n",
    "Dropout is added to help introduce redundancy into the model. After trying different values, I have taken 0.5 as dropout value for the fully connected networks."
   ]
  },
  {
   "cell_type": "code",
   "execution_count": 37,
   "metadata": {},
   "outputs": [],
   "source": [
    "model = Sequential()\n",
    "\n",
    "model.add(Dense(units = 16, kernel_initializer = 'uniform', activation = 'relu', input_dim = 9))\n",
    "# Adding dropout to prevent overfitting\n",
    "model.add(Dropout(rate=0.2))\n",
    "model.add(Dense(units = 8, kernel_initializer = 'uniform', activation = 'relu'))\n",
    "# Adding dropout to prevent overfitting\n",
    "model.add(Dropout(rate=0.2))\n",
    "model.add(Dense(units = 6, kernel_initializer = 'uniform', activation = 'relu'))\n",
    "# Adding dropout to prevent overfitting\n",
    "model.add(Dropout(rate=0.2))\n",
    "model.add(Dense(units = 1, kernel_initializer = 'uniform', activation = 'sigmoid'))\n",
    "\n",
    "# Prev Results\n",
    "# with dropout = 0.5, Test loss: 0.4178347518526997, Test accuracy: 0.9611650485436893"
   ]
  },
  {
   "cell_type": "markdown",
   "metadata": {},
   "source": [
    "#### 3.2 Set the optimizer\n",
    "RMSprop optimizer is used with learning rate 0.001.\n",
    "Adam is used because it converges fast and uses adaptive learning rate. It also overcomes the problems of slow convergence, vanishing learning rate and fluctuating loss function."
   ]
  },
  {
   "cell_type": "code",
   "execution_count": 38,
   "metadata": {},
   "outputs": [],
   "source": [
    "model.compile(optimizer = optimizer, loss = 'binary_crossentropy', metrics = ['accuracy'])"
   ]
  },
  {
   "cell_type": "markdown",
   "metadata": {},
   "source": [
    "#### 3.3 Fit the Training Data\n",
    "Fitting the data on the model created, with the hyper-parameters defined earlier. \n",
    "Here, instead of creating a different set for validation, I have used the testing data set ot validate data."
   ]
  },
  {
   "cell_type": "code",
   "execution_count": 39,
   "metadata": {},
   "outputs": [
    {
     "name": "stdout",
     "output_type": "stream",
     "text": [
      "Train on 521 samples, validate on 58 samples\n",
      "Epoch 1/100\n",
      "521/521 [==============================] - 2s 4ms/step - loss: 0.6748 - acc: 0.6852 - val_loss: 0.6353 - val_acc: 0.9310\n",
      "Epoch 2/100\n",
      "521/521 [==============================] - 1s 3ms/step - loss: 0.5140 - acc: 0.9002 - val_loss: 0.3687 - val_acc: 0.9483\n",
      "Epoch 3/100\n",
      "521/521 [==============================] - 1s 3ms/step - loss: 0.3608 - acc: 0.9232 - val_loss: 0.2099 - val_acc: 0.9483\n",
      "Epoch 4/100\n",
      "521/521 [==============================] - 1s 3ms/step - loss: 0.3088 - acc: 0.9213 - val_loss: 0.1692 - val_acc: 0.9483\n",
      "Epoch 5/100\n",
      "521/521 [==============================] - 1s 3ms/step - loss: 0.2400 - acc: 0.9213 - val_loss: 0.2162 - val_acc: 0.9483\n",
      "Epoch 6/100\n",
      "521/521 [==============================] - 1s 3ms/step - loss: 0.2187 - acc: 0.9578 - val_loss: 0.2307 - val_acc: 0.9483\n",
      "Epoch 7/100\n",
      "521/521 [==============================] - 2s 3ms/step - loss: 0.2946 - acc: 0.9367 - val_loss: 0.2549 - val_acc: 0.9483\n",
      "Epoch 8/100\n",
      "521/521 [==============================] - 1s 3ms/step - loss: 0.2590 - acc: 0.9443 - val_loss: 0.2703 - val_acc: 0.9483\n",
      "Epoch 9/100\n",
      "521/521 [==============================] - 1s 3ms/step - loss: 0.2848 - acc: 0.9424 - val_loss: 0.2064 - val_acc: 0.9655\n",
      "Epoch 10/100\n",
      "521/521 [==============================] - 2s 3ms/step - loss: 0.2248 - acc: 0.9463 - val_loss: 0.2325 - val_acc: 0.9483\n",
      "Epoch 11/100\n",
      "521/521 [==============================] - 1s 3ms/step - loss: 0.2112 - acc: 0.9501 - val_loss: 0.2398 - val_acc: 0.9655\n",
      "Epoch 12/100\n",
      "521/521 [==============================] - 1s 3ms/step - loss: 0.2678 - acc: 0.9424 - val_loss: 0.3113 - val_acc: 0.9483\n",
      "Epoch 13/100\n",
      "521/521 [==============================] - 2s 4ms/step - loss: 0.2452 - acc: 0.9463 - val_loss: 0.2210 - val_acc: 0.9655\n",
      "Epoch 14/100\n",
      "521/521 [==============================] - 2s 3ms/step - loss: 0.2343 - acc: 0.9482 - val_loss: 0.3389 - val_acc: 0.9483\n",
      "Epoch 15/100\n",
      "521/521 [==============================] - 2s 3ms/step - loss: 0.2494 - acc: 0.9443 - val_loss: 0.3015 - val_acc: 0.9483\n",
      "Epoch 16/100\n",
      "521/521 [==============================] - 2s 3ms/step - loss: 0.2536 - acc: 0.9463 - val_loss: 0.2791 - val_acc: 0.9655\n",
      "Epoch 17/100\n",
      "521/521 [==============================] - 2s 3ms/step - loss: 0.2381 - acc: 0.9501 - val_loss: 0.2604 - val_acc: 0.9655\n",
      "Epoch 18/100\n",
      "521/521 [==============================] - 2s 3ms/step - loss: 0.2368 - acc: 0.9559 - val_loss: 0.2924 - val_acc: 0.9655\n",
      "Epoch 19/100\n",
      "521/521 [==============================] - 2s 3ms/step - loss: 0.2002 - acc: 0.9597 - val_loss: 0.4058 - val_acc: 0.9483\n",
      "Epoch 20/100\n",
      "521/521 [==============================] - 2s 3ms/step - loss: 0.2644 - acc: 0.9539 - val_loss: 0.3646 - val_acc: 0.9655\n",
      "Epoch 21/100\n",
      "521/521 [==============================] - 2s 3ms/step - loss: 0.2501 - acc: 0.9443 - val_loss: 0.2301 - val_acc: 0.9483\n",
      "Epoch 22/100\n",
      "521/521 [==============================] - 2s 3ms/step - loss: 0.2224 - acc: 0.9539 - val_loss: 0.4348 - val_acc: 0.9483\n",
      "Epoch 23/100\n",
      "521/521 [==============================] - 2s 3ms/step - loss: 0.2832 - acc: 0.9443 - val_loss: 0.3411 - val_acc: 0.9655\n",
      "Epoch 24/100\n",
      "521/521 [==============================] - 2s 3ms/step - loss: 0.2209 - acc: 0.9424 - val_loss: 0.3322 - val_acc: 0.9655\n",
      "Epoch 25/100\n",
      "521/521 [==============================] - 2s 3ms/step - loss: 0.1839 - acc: 0.9578 - val_loss: 0.2610 - val_acc: 0.9655\n",
      "Epoch 26/100\n",
      "521/521 [==============================] - 2s 3ms/step - loss: 0.2581 - acc: 0.9520 - val_loss: 0.2078 - val_acc: 0.9483\n",
      "Epoch 27/100\n",
      "521/521 [==============================] - 2s 3ms/step - loss: 0.2916 - acc: 0.9520 - val_loss: 0.3109 - val_acc: 0.9655\n",
      "Epoch 28/100\n",
      "521/521 [==============================] - 2s 4ms/step - loss: 0.2148 - acc: 0.9501 - val_loss: 0.3684 - val_acc: 0.9655\n",
      "Epoch 29/100\n",
      "521/521 [==============================] - 2s 4ms/step - loss: 0.1982 - acc: 0.9559 - val_loss: 0.4284 - val_acc: 0.9483\n",
      "Epoch 30/100\n",
      "521/521 [==============================] - 3s 6ms/step - loss: 0.2642 - acc: 0.9520 - val_loss: 0.2988 - val_acc: 0.9655\n",
      "Epoch 31/100\n",
      "521/521 [==============================] - 2s 3ms/step - loss: 0.2446 - acc: 0.9520 - val_loss: 0.3393 - val_acc: 0.9655\n",
      "Epoch 32/100\n",
      "521/521 [==============================] - 2s 3ms/step - loss: 0.2288 - acc: 0.9578 - val_loss: 0.5060 - val_acc: 0.9483\n",
      "Epoch 33/100\n",
      "521/521 [==============================] - 2s 3ms/step - loss: 0.2147 - acc: 0.9616 - val_loss: 0.3788 - val_acc: 0.9655\n",
      "Epoch 34/100\n",
      "521/521 [==============================] - 2s 3ms/step - loss: 0.2473 - acc: 0.9463 - val_loss: 0.3266 - val_acc: 0.9655\n",
      "Epoch 35/100\n",
      "521/521 [==============================] - 2s 3ms/step - loss: 0.2757 - acc: 0.9539 - val_loss: 0.4063 - val_acc: 0.9655\n",
      "Epoch 36/100\n",
      "521/521 [==============================] - 2s 4ms/step - loss: 0.2526 - acc: 0.9539 - val_loss: 0.4162 - val_acc: 0.9655\n",
      "Epoch 37/100\n",
      "521/521 [==============================] - 2s 4ms/step - loss: 0.3269 - acc: 0.9424 - val_loss: 0.4454 - val_acc: 0.9655\n",
      "Epoch 38/100\n",
      "521/521 [==============================] - 2s 4ms/step - loss: 0.2385 - acc: 0.9539 - val_loss: 0.5757 - val_acc: 0.9483\n",
      "Epoch 39/100\n",
      "521/521 [==============================] - 2s 4ms/step - loss: 0.2228 - acc: 0.9424 - val_loss: 0.3883 - val_acc: 0.9483\n",
      "Epoch 40/100\n",
      "521/521 [==============================] - 2s 4ms/step - loss: 0.2566 - acc: 0.9501 - val_loss: 0.5076 - val_acc: 0.9655\n",
      "Epoch 41/100\n",
      "521/521 [==============================] - 2s 4ms/step - loss: 0.2510 - acc: 0.9386 - val_loss: 0.3582 - val_acc: 0.9655\n",
      "Epoch 42/100\n",
      "521/521 [==============================] - 2s 4ms/step - loss: 0.2418 - acc: 0.9539 - val_loss: 0.3528 - val_acc: 0.9655\n",
      "Epoch 43/100\n",
      "521/521 [==============================] - 2s 4ms/step - loss: 0.2755 - acc: 0.9539 - val_loss: 0.3355 - val_acc: 0.9655\n",
      "Epoch 44/100\n",
      "521/521 [==============================] - 2s 4ms/step - loss: 0.2213 - acc: 0.9597 - val_loss: 0.3252 - val_acc: 0.9483\n",
      "Epoch 45/100\n",
      "521/521 [==============================] - 2s 4ms/step - loss: 0.2693 - acc: 0.9559 - val_loss: 0.3390 - val_acc: 0.9483\n",
      "Epoch 46/100\n",
      "521/521 [==============================] - 2s 4ms/step - loss: 0.2304 - acc: 0.9578 - val_loss: 0.4444 - val_acc: 0.9655\n",
      "Epoch 47/100\n",
      "521/521 [==============================] - 2s 4ms/step - loss: 0.2526 - acc: 0.9501 - val_loss: 0.4105 - val_acc: 0.9655\n",
      "Epoch 48/100\n",
      "521/521 [==============================] - 2s 4ms/step - loss: 0.2835 - acc: 0.9520 - val_loss: 0.4453 - val_acc: 0.9655\n",
      "Epoch 49/100\n",
      "521/521 [==============================] - 2s 4ms/step - loss: 0.2358 - acc: 0.9616 - val_loss: 0.4126 - val_acc: 0.9655\n",
      "Epoch 50/100\n",
      "521/521 [==============================] - 2s 4ms/step - loss: 0.2754 - acc: 0.9616 - val_loss: 0.3504 - val_acc: 0.9655\n",
      "Epoch 51/100\n",
      "521/521 [==============================] - 2s 4ms/step - loss: 0.2314 - acc: 0.9539 - val_loss: 0.4692 - val_acc: 0.9655\n",
      "Epoch 52/100\n",
      "521/521 [==============================] - 2s 4ms/step - loss: 0.2694 - acc: 0.9405 - val_loss: 0.3159 - val_acc: 0.9655\n",
      "Epoch 53/100\n",
      "521/521 [==============================] - 2s 4ms/step - loss: 0.2114 - acc: 0.9616 - val_loss: 0.3648 - val_acc: 0.9655\n",
      "Epoch 54/100\n",
      "521/521 [==============================] - 2s 4ms/step - loss: 0.3063 - acc: 0.9520 - val_loss: 0.4421 - val_acc: 0.9655\n",
      "Epoch 55/100\n",
      "521/521 [==============================] - 2s 4ms/step - loss: 0.2082 - acc: 0.9616 - val_loss: 0.3540 - val_acc: 0.9655\n",
      "Epoch 56/100\n",
      "521/521 [==============================] - 2s 4ms/step - loss: 0.2523 - acc: 0.9616 - val_loss: 0.4342 - val_acc: 0.9655\n",
      "Epoch 57/100\n",
      "521/521 [==============================] - 2s 4ms/step - loss: 0.2494 - acc: 0.9597 - val_loss: 0.4316 - val_acc: 0.9655\n",
      "Epoch 58/100\n",
      "521/521 [==============================] - 2s 3ms/step - loss: 0.2468 - acc: 0.9559 - val_loss: 0.4455 - val_acc: 0.9655\n",
      "Epoch 59/100\n",
      "521/521 [==============================] - 2s 4ms/step - loss: 0.2481 - acc: 0.9674 - val_loss: 0.5613 - val_acc: 0.9655\n",
      "Epoch 60/100\n",
      "521/521 [==============================] - 2s 4ms/step - loss: 0.2303 - acc: 0.9520 - val_loss: 0.4485 - val_acc: 0.9655\n",
      "Epoch 61/100\n",
      "521/521 [==============================] - 2s 4ms/step - loss: 0.2550 - acc: 0.9578 - val_loss: 0.4075 - val_acc: 0.9655\n"
     ]
    },
    {
     "name": "stdout",
     "output_type": "stream",
     "text": [
      "Epoch 62/100\n",
      "521/521 [==============================] - 1s 3ms/step - loss: 0.2291 - acc: 0.9597 - val_loss: 0.4255 - val_acc: 0.9655\n",
      "Epoch 63/100\n",
      "521/521 [==============================] - 1s 3ms/step - loss: 0.2687 - acc: 0.9597 - val_loss: 0.4996 - val_acc: 0.9655\n",
      "Epoch 64/100\n",
      "521/521 [==============================] - 1s 3ms/step - loss: 0.3102 - acc: 0.9578 - val_loss: 0.4495 - val_acc: 0.9655\n",
      "Epoch 65/100\n",
      "521/521 [==============================] - 1s 3ms/step - loss: 0.2864 - acc: 0.9559 - val_loss: 0.4939 - val_acc: 0.9655\n",
      "Epoch 66/100\n",
      "521/521 [==============================] - 1s 3ms/step - loss: 0.2840 - acc: 0.9559 - val_loss: 0.5287 - val_acc: 0.9655\n",
      "Epoch 67/100\n",
      "521/521 [==============================] - 1s 3ms/step - loss: 0.2615 - acc: 0.9635 - val_loss: 0.4155 - val_acc: 0.9655\n",
      "Epoch 68/100\n",
      "521/521 [==============================] - 1s 3ms/step - loss: 0.1895 - acc: 0.9559 - val_loss: 0.3965 - val_acc: 0.9655\n",
      "Epoch 69/100\n",
      "521/521 [==============================] - 1s 3ms/step - loss: 0.1844 - acc: 0.9501 - val_loss: 0.4835 - val_acc: 0.9655\n",
      "Epoch 70/100\n",
      "521/521 [==============================] - 1s 3ms/step - loss: 0.2450 - acc: 0.9482 - val_loss: 0.4083 - val_acc: 0.9655\n",
      "Epoch 71/100\n",
      "521/521 [==============================] - 1s 3ms/step - loss: 0.2579 - acc: 0.9616 - val_loss: 0.3441 - val_acc: 0.9655\n",
      "Epoch 72/100\n",
      "521/521 [==============================] - 1s 3ms/step - loss: 0.2364 - acc: 0.9501 - val_loss: 0.5227 - val_acc: 0.9655\n",
      "Epoch 73/100\n",
      "521/521 [==============================] - 1s 3ms/step - loss: 0.2589 - acc: 0.9501 - val_loss: 0.5036 - val_acc: 0.9655\n",
      "Epoch 74/100\n",
      "521/521 [==============================] - 2s 3ms/step - loss: 0.2845 - acc: 0.9501 - val_loss: 0.4995 - val_acc: 0.9655\n",
      "Epoch 75/100\n",
      "521/521 [==============================] - 2s 3ms/step - loss: 0.2730 - acc: 0.9482 - val_loss: 0.4689 - val_acc: 0.9655\n",
      "Epoch 76/100\n",
      "521/521 [==============================] - 2s 4ms/step - loss: 0.3097 - acc: 0.9463 - val_loss: 0.4494 - val_acc: 0.9655\n",
      "Epoch 77/100\n",
      "521/521 [==============================] - 2s 4ms/step - loss: 0.2255 - acc: 0.9635 - val_loss: 0.4407 - val_acc: 0.9655\n",
      "Epoch 78/100\n",
      "521/521 [==============================] - 2s 4ms/step - loss: 0.2679 - acc: 0.9616 - val_loss: 0.4201 - val_acc: 0.9655\n",
      "Epoch 79/100\n",
      "521/521 [==============================] - 2s 4ms/step - loss: 0.3127 - acc: 0.9578 - val_loss: 0.4177 - val_acc: 0.9655\n",
      "Epoch 80/100\n",
      "521/521 [==============================] - 2s 4ms/step - loss: 0.2975 - acc: 0.9559 - val_loss: 0.4330 - val_acc: 0.9655\n",
      "Epoch 81/100\n",
      "521/521 [==============================] - 2s 4ms/step - loss: 0.2262 - acc: 0.9635 - val_loss: 0.5386 - val_acc: 0.9655\n",
      "Epoch 82/100\n",
      "521/521 [==============================] - 2s 4ms/step - loss: 0.2439 - acc: 0.9559 - val_loss: 0.4673 - val_acc: 0.9655\n",
      "Epoch 83/100\n",
      "521/521 [==============================] - 2s 4ms/step - loss: 0.2764 - acc: 0.9520 - val_loss: 0.3852 - val_acc: 0.9655\n",
      "Epoch 84/100\n",
      "521/521 [==============================] - 3s 6ms/step - loss: 0.2386 - acc: 0.9559 - val_loss: 0.4989 - val_acc: 0.9655\n",
      "Epoch 85/100\n",
      "521/521 [==============================] - 2s 4ms/step - loss: 0.2608 - acc: 0.9578 - val_loss: 0.4275 - val_acc: 0.9655\n",
      "Epoch 86/100\n",
      "521/521 [==============================] - 3s 5ms/step - loss: 0.2854 - acc: 0.9597 - val_loss: 0.3284 - val_acc: 0.9655\n",
      "Epoch 87/100\n",
      "521/521 [==============================] - 3s 5ms/step - loss: 0.2351 - acc: 0.9597 - val_loss: 0.3464 - val_acc: 0.9655\n",
      "Epoch 88/100\n",
      "521/521 [==============================] - 3s 5ms/step - loss: 0.2426 - acc: 0.9559 - val_loss: 0.3834 - val_acc: 0.9655\n",
      "Epoch 89/100\n",
      "521/521 [==============================] - 3s 5ms/step - loss: 0.2405 - acc: 0.9616 - val_loss: 0.3824 - val_acc: 0.9655\n",
      "Epoch 90/100\n",
      "521/521 [==============================] - 2s 4ms/step - loss: 0.2447 - acc: 0.9559 - val_loss: 0.4866 - val_acc: 0.9655\n",
      "Epoch 91/100\n",
      "521/521 [==============================] - 2s 3ms/step - loss: 0.3024 - acc: 0.9616 - val_loss: 0.4281 - val_acc: 0.9655\n",
      "Epoch 92/100\n",
      "521/521 [==============================] - 2s 3ms/step - loss: 0.2254 - acc: 0.9520 - val_loss: 0.5222 - val_acc: 0.9655\n",
      "Epoch 93/100\n",
      "521/521 [==============================] - 2s 3ms/step - loss: 0.2533 - acc: 0.9635 - val_loss: 0.3312 - val_acc: 0.9483\n",
      "Epoch 94/100\n",
      "521/521 [==============================] - 2s 4ms/step - loss: 0.2430 - acc: 0.9597 - val_loss: 0.4727 - val_acc: 0.9655\n",
      "Epoch 95/100\n",
      "521/521 [==============================] - 2s 3ms/step - loss: 0.3081 - acc: 0.9578 - val_loss: 0.4000 - val_acc: 0.9655\n",
      "Epoch 96/100\n",
      "521/521 [==============================] - 2s 4ms/step - loss: 0.2822 - acc: 0.9482 - val_loss: 0.4489 - val_acc: 0.9655\n",
      "Epoch 97/100\n",
      "521/521 [==============================] - 2s 5ms/step - loss: 0.2813 - acc: 0.9520 - val_loss: 0.5399 - val_acc: 0.9655\n",
      "Epoch 98/100\n",
      "521/521 [==============================] - 2s 4ms/step - loss: 0.2833 - acc: 0.9463 - val_loss: 0.4033 - val_acc: 0.9655\n",
      "Epoch 99/100\n",
      "521/521 [==============================] - 2s 4ms/step - loss: 0.2762 - acc: 0.9578 - val_loss: 0.4256 - val_acc: 0.9655\n",
      "Epoch 100/100\n",
      "521/521 [==============================] - 2s 3ms/step - loss: 0.2936 - acc: 0.9559 - val_loss: 0.4059 - val_acc: 0.9655\n"
     ]
    }
   ],
   "source": [
    "history = model.fit(trainData, trainLabels, batch_size = batch_size, epochs = epochs,validation_data=(valData, valLabels))"
   ]
  },
  {
   "cell_type": "markdown",
   "metadata": {},
   "source": [
    "### 4. Evaluate Model\n",
    "\n",
    "#### 4.1 Evaluate the metwork with test data"
   ]
  },
  {
   "cell_type": "code",
   "execution_count": 40,
   "metadata": {},
   "outputs": [
    {
     "name": "stdout",
     "output_type": "stream",
     "text": [
      "Test loss: 0.08614331599578116\n",
      "Test accuracy: 0.9708737869864529\n"
     ]
    }
   ],
   "source": [
    "score = model.evaluate(testData, testLabels, verbose=0)\n",
    "print('Test loss:', score[0])\n",
    "print('Test accuracy:', score[1])\n"
   ]
  },
  {
   "cell_type": "markdown",
   "metadata": {},
   "source": [
    "#### 4.2 Plot Accuracy and Loss curves"
   ]
  },
  {
   "cell_type": "code",
   "execution_count": 41,
   "metadata": {},
   "outputs": [
    {
     "name": "stdout",
     "output_type": "stream",
     "text": [
      "dict_keys(['val_loss', 'val_acc', 'loss', 'acc'])\n"
     ]
    },
    {
     "data": {
      "image/png": "[encoded data removed]",
      "text/plain": [
       "<Figure size 432x288 with 1 Axes>"
      ]
     },
     "metadata": {},
     "output_type": "display_data"
    },
    {
     "data": {
      "image/png": "[encoded data removed]",
      "text/plain": [
       "<Figure size 432x288 with 1 Axes>"
      ]
     },
     "metadata": {},
     "output_type": "display_data"
    },
    {
     "name": "stdout",
     "output_type": "stream",
     "text": [
      "_________________________________________________________________\n",
      "Layer (type)                 Output Shape              Param #   \n",
      "=================================================================\n",
      "dense_21 (Dense)             (None, 16)                160       \n",
      "_________________________________________________________________\n",
      "dropout_16 (Dropout)         (None, 16)                0         \n",
      "_________________________________________________________________\n",
      "dense_22 (Dense)             (None, 8)                 136       \n",
      "_________________________________________________________________\n",
      "dropout_17 (Dropout)         (None, 8)                 0         \n",
      "_________________________________________________________________\n",
      "dense_23 (Dense)             (None, 6)                 54        \n",
      "_________________________________________________________________\n",
      "dropout_18 (Dropout)         (None, 6)                 0         \n",
      "_________________________________________________________________\n",
      "dense_24 (Dense)             (None, 1)                 7         \n",
      "=================================================================\n",
      "Total params: 357\n",
      "Trainable params: 357\n",
      "Non-trainable params: 0\n",
      "_________________________________________________________________\n"
     ]
    }
   ],
   "source": [
    "# list all data in history\n",
    "print(history.history.keys())\n",
    "# summarize history for accuracy\n",
    "plt.plot(history.history['acc'])\n",
    "plt.plot(history.history['val_acc'])\n",
    "plt.title('model accuracy')\n",
    "plt.ylabel('accuracy')\n",
    "plt.xlabel('epochs')\n",
    "plt.legend(['train', 'test'], loc='upper left')\n",
    "plt.show()\n",
    "# summarize history for loss\n",
    "plt.plot(history.history['loss'])\n",
    "plt.plot(history.history['val_loss'])\n",
    "plt.title('model loss')\n",
    "plt.ylabel('loss')\n",
    "plt.xlabel('epoch')\n",
    "plt.legend(['train', 'test'], loc='upper left')\n",
    "plt.show()\n",
    "\n",
    "model.summary()"
   ]
  }
 ],
 "metadata": {
  "kernelspec": {
   "display_name": "Python 3",
   "language": "python",
   "name": "python3"
  },
  "language_info": {
   "codemirror_mode": {
    "name": "ipython",
    "version": 3
   },
   "file_extension": ".py",
   "mimetype": "text/x-python",
   "name": "python",
   "nbconvert_exporter": "python",
   "pygments_lexer": "ipython3",
   "version": "3.6.5"
  }
 },
 "nbformat": 4,
 "nbformat_minor": 2
}
