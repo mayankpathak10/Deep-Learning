{
 "cells": [
  {
   "cell_type": "markdown",
   "metadata": {},
   "source": [
    "## <div style=\"text-align: right\"> Mayank Pathak </div>\n",
    "# Problem Set 3\n",
    "## Question 1 \n",
    "### Classifying Flower Dataset "
   ]
  },
  {
   "cell_type": "markdown",
   "metadata": {},
   "source": [
    "### October 20, 2018\n",
    "\n",
    "- 1. **Introduction** \n",
    "    - 1.1 Importing Necessary libraries\n",
    "    - 1.2 Defining Hyper-Parameters\n",
    "- 2. **Data Preparation**\n",
    "    - 2.1  Load Data\n",
    "    - 2.2  Splitting training and testing data\n",
    "    - 2.3  Creating Data Loader for loading the data in the network \n",
    "    - 2.4  Show Sample Training Images and Labels\n",
    "- 3. **Neural Network**\n",
    "    - 3.1 Function to adjust learning rate\n",
    "    - 3.2 Class Module to implement for network\n",
    "    - 3.3 Function to implement training\n",
    "    - 3.4 Function to implement testing\n",
    "- 4. **Evaluate Model**\n",
    "    - 4.1 Plot Accuracy and Loss curves"
   ]
  },
  {
   "cell_type": "markdown",
   "metadata": {},
   "source": [
    "### 1. Introduction\n",
    "\n",
    "#### 1.1 Importing necessary libraries:\n",
    "Libraries used for to create this network:\n",
    "    1. numpy\n",
    "    2. matplotlib\n",
    "    3. torch\n",
    "    4. sklearn\n",
    "    5. torch vision\n",
    "    6. os"
   ]
  },
  {
   "cell_type": "code",
   "execution_count": 20,
   "metadata": {},
   "outputs": [],
   "source": [
    "import os\n",
    "import numpy as np\n",
    "import torch\n",
    "import torch.nn as nn\n",
    "from torch import optim\n",
    "from torch import autograd\n",
    "import torch.nn.functional as F\n",
    "import matplotlib.pyplot as plt\n",
    "import torch.utils.data as Data\n",
    "from torch.autograd.variable import Variable\n",
    "import torchvision.datasets as dsets\n",
    "import torchvision.transforms as transforms\n",
    "from sklearn.model_selection import train_test_split\n",
    "\n",
    "%matplotlib inline"
   ]
  },
  {
   "cell_type": "markdown",
   "metadata": {},
   "source": [
    "#### 1.2 Defining Hyper-Parameters and other required Parameters\n",
    "The Hyper-Parameters for this model are:\n",
    "\n",
    "   1. **batch size:** by playing around with batch sizes from (3 to 128), 64 gives the most optimal result. \n",
    "   2. **learning rate:** learning rate 0.001 helps train the network in appropriate time.\n",
    "   3. **weight decay:** to keep it low, 0.0001 is chosen\n",
    "   4. **epochs:** by trying different epochs, 40 epochs are used to train. However, after 18 epochs the network             accuracy saturates\n",
    "   5. **pool size:** for image size of 32x32, pool size of 2 is optimal.\n",
    "   6. **number of classes:** its 5, the number of output classes.\n",
    "   7. **optimizer:** Adam optimizer is used because its ability for weight decay and decaying learning rate."
   ]
  },
  {
   "cell_type": "code",
   "execution_count": 5,
   "metadata": {},
   "outputs": [],
   "source": [
    "# Parameters\n",
    "batch_size = 64\n",
    "learning_rate = 0.001\n",
    "weight_decay = 0.0001\n",
    "num_epochs = 40\n",
    "pool_size = 2\n",
    "num_classes = 5\n"
   ]
  },
  {
   "cell_type": "markdown",
   "metadata": {},
   "source": [
    "### 2. Data Preparation\n",
    "\n",
    "#### 2.1 Load Data\n",
    "The input images and labels are loaded using 'np.load' function to load the '.npy' files provided with the homework assignment. <br>\n",
    "\n",
    "> Number of Input Images: 4323 <br>"
   ]
  },
  {
   "cell_type": "code",
   "execution_count": 6,
   "metadata": {},
   "outputs": [],
   "source": [
    "imgs = np.load(\"Flowers/flower_imgs.npy\")\n",
    "labels = np.load('Flowers/flower_labels.npy')"
   ]
  },
  {
   "cell_type": "markdown",
   "metadata": {},
   "source": [
    "#### 2.2 Splitting training and testing data\n",
    "the input data is then split between training and testing with 15% data kept for testing.\n",
    "\n",
    "> TrainImages shape: (3675,32,32,3) <br>\n",
    "> TestImages shape: (648,32,32,3)"
   ]
  },
  {
   "cell_type": "code",
   "execution_count": 7,
   "metadata": {},
   "outputs": [],
   "source": [
    "# Splitting the input data into training and testing data\n",
    "train_images, test_images, train_labels, test_labels = train_test_split(imgs, labels, test_size=0.15)\n",
    "\n",
    "train_labels = torch.LongTensor(train_labels)\n",
    "test_labels = torch.LongTensor(test_labels)\n",
    "\n",
    "img_mean = np.mean(np.swapaxes(imgs/255.0,0,1).reshape(3, -1), 1)\n",
    "img_std = np.std(np.swapaxes(imgs/255.0,0,1).reshape(3, -1), 1)\n",
    "# print(\"mean: {}, std: {}\".format(img_mean, img_std))"
   ]
  },
  {
   "cell_type": "markdown",
   "metadata": {},
   "source": [
    "#### 2.3 Creating **Data Loader** for loading the data in the network \n",
    "A class 'FlowerLoader' is created and used for this purpose as suggested by TAs on piazza. The images are normalized and transforms are applied in order to augment the data. \n",
    "\n",
    "Also, training data is shuffled on every epoch."
   ]
  },
  {
   "cell_type": "code",
   "execution_count": 8,
   "metadata": {},
   "outputs": [],
   "source": [
    "class FlowerLoader(torch.utils.data.Dataset):\n",
    "    def __init__(self, x_arr, y_arr, transform=None):\n",
    "        self.x_arr = x_arr\n",
    "        self.y_arr = y_arr\n",
    "        self.transform = transform\n",
    "\n",
    "    def __len__(self):\n",
    "        return self.x_arr.shape[0]\n",
    "\n",
    "    def __getitem__(self, index):\n",
    "        img = self.x_arr[index]\n",
    "        label = self.y_arr[index]\n",
    "        if self.transform is not None:\n",
    "            img = self.transform(img)\n",
    "\n",
    "        return img, label\n",
    "\n",
    "normalize = transforms.Normalize(mean=list(img_mean),\n",
    "                                 std=list(img_std))\n",
    "\n",
    "train_loader = torch.utils.data.DataLoader(\n",
    "    FlowerLoader(train_images, train_labels, transforms.Compose([\n",
    "        transforms.ToPILImage(),\n",
    "        transforms.RandomCrop(32, padding=4),\n",
    "        transforms.RandomHorizontalFlip(),\n",
    "        transforms.ToTensor(),\n",
    "        normalize,\n",
    "    ])),\n",
    "    batch_size=batch_size, shuffle=True)\n",
    "\n",
    "test_loader = torch.utils.data.DataLoader(\n",
    "    FlowerLoader(test_images, test_labels, transforms.Compose([\n",
    "        transforms.ToPILImage(),\n",
    "        transforms.ToTensor(),\n",
    "        normalize,\n",
    "    ])),\n",
    "    batch_size=batch_size, shuffle=False)"
   ]
  },
  {
   "cell_type": "markdown",
   "metadata": {},
   "source": [
    "#### 2.4 Sample training Images and Labels\n",
    "Below are 15 sample images with their labels."
   ]
  },
  {
   "cell_type": "code",
   "execution_count": 9,
   "metadata": {},
   "outputs": [
    {
     "data": {
      "image/png": "[encoded data removed]",
      "text/plain": [
       "<Figure size 720x576 with 15 Axes>"
      ]
     },
     "metadata": {
      "needs_background": "light"
     },
     "output_type": "display_data"
    }
   ],
   "source": [
    "plt.figure(figsize=(10,8))\n",
    "plt.subplots_adjust(wspace=0.6, hspace=0.4)\n",
    "# figure\n",
    "x, y = 5, 3\n",
    "for i in range(x*y):  \n",
    "    plt.subplot(y, x, i+1)\n",
    "    plt.imshow(train_images[i], interpolation='nearest')\n",
    "    plt.title(train_labels[i])   \n",
    "plt.show()"
   ]
  },
  {
   "cell_type": "markdown",
   "metadata": {},
   "source": [
    "### 3. Defining Network\n",
    "\n",
    "The network which I had build for this task is 19 layered network, with 14 Convolution layer, 3 maxpooling layers (kernel size 2), 1 average pooling layer with last layer as fully connected layer.\n",
    "- Every convolution layer is followed by batch normailzation, with ReLU activation function. \n",
    "- Last fully connected layer with input size of 128.\n",
    "\n",
    "\n",
    "#### 3.1 Function to adjust learning rate \n",
    "The initial learning rate for the network is taken as 0.001. The learning rate is then adjusted rate as the network progresses with the epochs. Please see the below code cell for more details:"
   ]
  },
  {
   "cell_type": "code",
   "execution_count": 10,
   "metadata": {},
   "outputs": [],
   "source": [
    "# Create a learning rate adjustment function that divides the learning rate by 10 every 30 epochs\n",
    "def adjust_learning_rate(epoch):\n",
    "    lr = learning_rate\n",
    "\n",
    "    if epoch > 180:\n",
    "        lr = lr / 1000000\n",
    "    elif epoch > 150:\n",
    "        lr = lr / 100000\n",
    "    elif epoch > 40:\n",
    "        lr = lr / 10000\n",
    "    elif epoch > 30:\n",
    "        lr = lr / 1000\n",
    "    elif epoch > 20:\n",
    "        lr = lr / 100\n",
    "    elif epoch > 10:\n",
    "        lr = lr / 10\n",
    "\n",
    "    for param_group in optimizer.param_groups:\n",
    "        param_group[\"lr\"] = lr"
   ]
  },
  {
   "cell_type": "markdown",
   "metadata": {},
   "source": [
    "#### 3.2 Class Module to implement for network\n",
    "To implement the network using pytorch, a class 'Unit' is created with argument 'nn.Module' which allows to use it as a network, which can be added as layer to other network. It makes the network implementation easier."
   ]
  },
  {
   "cell_type": "code",
   "execution_count": 11,
   "metadata": {},
   "outputs": [],
   "source": [
    "class Unit(nn.Module):\n",
    "    def __init__(self,in_channels,out_channels):\n",
    "        super(Unit,self).__init__()\n",
    "        \n",
    "\n",
    "        self.conv = nn.Conv2d(in_channels=in_channels,kernel_size=3,out_channels=out_channels,stride=1,padding=1)\n",
    "        self.bn = nn.BatchNorm2d(num_features=out_channels)\n",
    "        self.relu = nn.ReLU()\n",
    "\n",
    "    def forward(self,input):\n",
    "        output = self.conv(input)\n",
    "        output = self.bn(output)\n",
    "        output = self.relu(output)\n",
    "\n",
    "        return output"
   ]
  },
  {
   "cell_type": "markdown",
   "metadata": {},
   "source": [
    "Main class __'ConvNetwork'__ to implement the network"
   ]
  },
  {
   "cell_type": "code",
   "execution_count": 12,
   "metadata": {},
   "outputs": [],
   "source": [
    "class ConvNetwork(nn.Module):\n",
    "    def __init__(self,num_classes):\n",
    "        super(ConvNetwork,self).__init__()\n",
    "\n",
    "        #Create 14 layers of the unit with max pooling in between\n",
    "        self.unit1 = Unit(in_channels=3,out_channels=32)\n",
    "        self.unit2 = Unit(in_channels=32, out_channels=32)\n",
    "        self.unit3 = Unit(in_channels=32, out_channels=32)\n",
    "        \n",
    "        self.pool1 = nn.MaxPool2d(kernel_size=pool_size)\n",
    "\n",
    "        self.unit4 = Unit(in_channels=32, out_channels=64)\n",
    "        self.unit5 = Unit(in_channels=64, out_channels=64)\n",
    "        self.unit6 = Unit(in_channels=64, out_channels=64)\n",
    "        self.unit7 = Unit(in_channels=64, out_channels=64)\n",
    "\n",
    "        self.pool2 = nn.MaxPool2d(kernel_size=pool_size)\n",
    "\n",
    "        self.unit8 = Unit(in_channels=64, out_channels=128)\n",
    "        self.unit9 = Unit(in_channels=128, out_channels=128)\n",
    "        self.unit10 = Unit(in_channels=128, out_channels=128)\n",
    "        self.unit11 = Unit(in_channels=128, out_channels=128)\n",
    "\n",
    "        self.pool3 = nn.MaxPool2d(kernel_size=pool_size)\n",
    "\n",
    "        self.unit12 = Unit(in_channels=128, out_channels=128)\n",
    "        self.unit13 = Unit(in_channels=128, out_channels=128)\n",
    "        self.unit14 = Unit(in_channels=128, out_channels=128)\n",
    "\n",
    "        self.avgpool = nn.AvgPool2d(kernel_size=4)\n",
    "        \n",
    "        #Add all the units into the Sequential layer in exact order\n",
    "        self.net = nn.Sequential(self.unit1, self.unit2, self.unit3, self.pool1, self.unit4, self.unit5, self.unit6\n",
    "                                 ,self.unit7, self.pool2, self.unit8, self.unit9, self.unit10, self.unit11, self.pool3,\n",
    "                                 self.unit12, self.unit13, self.unit14, self.avgpool)\n",
    "\n",
    "        self.fc = nn.Linear(in_features=128,out_features=num_classes)\n",
    "\n",
    "    def forward(self, input):\n",
    "        output = self.net(input)\n",
    "        output = output.view(-1,128)\n",
    "        output = self.fc(output)\n",
    "        return output"
   ]
  },
  {
   "cell_type": "markdown",
   "metadata": {},
   "source": [
    "#### 3.3 Function to implement training\n",
    "below code cell runs the training loop for the given number of epochs and calcualtes the parameters. </br>\n",
    "It also calls the testing function at every epoch."
   ]
  },
  {
   "cell_type": "code",
   "execution_count": 14,
   "metadata": {},
   "outputs": [],
   "source": [
    "def train(num_epochs):\n",
    "    best_acc = 0.0\n",
    "    test_accuracies = []\n",
    "    train_losses = []\n",
    "    for epoch in range(num_epochs):\n",
    "        print('-'*10)\n",
    "        print(\"\\nEpoch {}/{} \\n\".format(epoch+1,num_epochs))\n",
    "        train_acc = 0.0\n",
    "        train_loss = 0.0\n",
    "        \n",
    "        for i, (images, labels) in enumerate(train_loader):\n",
    "            # Move images and labels to gpu if available\n",
    "            # Clear all accumulated gradients\n",
    "            model.train()\n",
    "            optimizer.zero_grad()\n",
    "            # Predict classes using images from the test set\n",
    "            images = Variable(images)\n",
    "            labels = Variable(labels)\n",
    "            outputs = model(images)\n",
    "            # Compute the loss based on the predictions and actual labels\n",
    "            loss = criterion(outputs, labels)\n",
    "            # Backpropagate the loss\n",
    "            loss.backward()\n",
    "\n",
    "            # Adjust parameters according to the computed gradients\n",
    "            optimizer.step()\n",
    "\n",
    "            train_loss = (train_loss*i + loss.data[0])/(i+1)\n",
    "            train_losses.append(train_loss)\n",
    "            _, prediction = torch.max(outputs.data, 1)\n",
    "            \n",
    "            train_acc = (i*train_acc +\n",
    "                         torch.mean(prediction.eq(labels.data).float()))/(i+1)\n",
    "\n",
    "        # Call the learning rate adjustment function\n",
    "        adjust_learning_rate(epoch)\n",
    "\n",
    "        # Evaluate on the test set\n",
    "        test_acc = test()\n",
    "        test_accuracies.append(test_acc)\n",
    "        # Save the model if the test acc is greater than our current best\n",
    "        if test_acc > best_acc:\n",
    "#             save_models(epoch)\n",
    "            best_acc = test_acc\n",
    "            \n",
    "\n",
    "        # Print the metrics\n",
    "        print(\"Train Accuracy: {:.6f}% , TrainLoss: {:.4f}, \\nTest Accuracy: {:.6f} %\".format(train_acc*100, train_loss,test_acc*100))\n",
    "    print('\\n\\nbest_acc = {:.4f}% '.format(best_acc*100))\n",
    "    \n",
    "    return test_accuracies, train_losses"
   ]
  },
  {
   "cell_type": "markdown",
   "metadata": {},
   "source": [
    "#### 3.4 Function to implement testing\n",
    "The data is loaded with the test loader and predicted output is compared with the actual output."
   ]
  },
  {
   "cell_type": "code",
   "execution_count": 13,
   "metadata": {},
   "outputs": [],
   "source": [
    "def test():\n",
    "    model.eval()\n",
    "    test_acc = 0.0\n",
    "    for i, (images, labels) in enumerate(test_loader):\n",
    "\n",
    "        # Predict classes using images from the test set\n",
    "        images = Variable(images)\n",
    "        labels = Variable(labels)\n",
    "        outputs = model(images)\n",
    "        _, prediction = torch.max(outputs.data, 1)\n",
    "        \n",
    "#         prediction = prediction.data\n",
    "#         prediction =\n",
    "        test_acc = (i*test_acc +\n",
    "                    torch.mean(prediction.eq(labels.data).float()))/(i+1)\n",
    "\n",
    "    # Compute the average acc and loss over all 10000 test images\n",
    "#     test_acc = test_acc / 10000\n",
    "\n",
    "    return test_acc"
   ]
  },
  {
   "cell_type": "markdown",
   "metadata": {},
   "source": [
    "Object for the class is created and loss function is defined"
   ]
  },
  {
   "cell_type": "code",
   "execution_count": 15,
   "metadata": {},
   "outputs": [],
   "source": [
    "model = ConvNetwork(num_classes)\n",
    "criterion = nn.CrossEntropyLoss()\n",
    "optimizer = optim.Adam(model.parameters(), lr = learning_rate, weight_decay=weight_decay)"
   ]
  },
  {
   "cell_type": "markdown",
   "metadata": {},
   "source": [
    "__Past Results__ are saved to compare perofrmance with change in parameters. The following are some outputs with Adam Optimizer."
   ]
  },
  {
   "cell_type": "code",
   "execution_count": 16,
   "metadata": {},
   "outputs": [
    {
     "data": {
      "text/plain": [
       "'\\nbest_acc = 0.7255%\\n# Parameters\\nbatch_size = 64\\nlearning_rate = 0.001\\nweight_decay = 0.0001\\nnum_epochs = 10\\n'"
      ]
     },
     "execution_count": 16,
     "metadata": {},
     "output_type": "execute_result"
    }
   ],
   "source": [
    "\"\"\"\n",
    "Past results\n",
    "\n",
    "best_acc = 0.7937 \n",
    "# Parameters\n",
    "batch_size = 64\n",
    "learning_rate = 0.001\n",
    "weight_decay = 0.0001\n",
    "num_epochs = 40\n",
    "\n",
    "\"\"\"\n",
    "\n",
    "\"\"\"\n",
    "best_acc =  0.65861\n",
    "# Parameters\n",
    "batch_size = 64\n",
    "learning_rate = 0.001\n",
    "weight_decay = 0.01\n",
    "num_epochs = 10\n",
    "\"\"\"\n",
    "\n",
    "\"\"\"\n",
    "best_acc = 0.6984\n",
    "# Parameters\n",
    "batch_size = 64\n",
    "learning_rate = 0.001\n",
    "weight_decay = 0.001\n",
    "num_epochs = 10\n",
    "\"\"\"\n",
    "\n",
    "\"\"\"\n",
    "best_acc = 0.7255%\n",
    "# Parameters\n",
    "batch_size = 64\n",
    "learning_rate = 0.001\n",
    "weight_decay = 0.0001\n",
    "num_epochs = 10\n",
    "\"\"\"\n",
    "\n"
   ]
  },
  {
   "cell_type": "markdown",
   "metadata": {},
   "source": [
    "__Training Function is called to execute the network__"
   ]
  },
  {
   "cell_type": "code",
   "execution_count": 17,
   "metadata": {
    "scrolled": true
   },
   "outputs": [
    {
     "name": "stdout",
     "output_type": "stream",
     "text": [
      "Started Training Network\n",
      "----------\n",
      "\n",
      "Epoch 1/40 \n",
      "\n",
      "Train Accuracy: 47.546419% , TrainLoss: 1.2752, \n",
      "Test Accuracy: 56.470960 %\n",
      "----------\n",
      "\n",
      "Epoch 2/40 \n",
      "\n",
      "Train Accuracy: 57.203249% , TrainLoss: 1.0956, \n",
      "Test Accuracy: 55.760732 %\n",
      "----------\n",
      "\n",
      "Epoch 3/40 \n",
      "\n",
      "Train Accuracy: 61.625497% , TrainLoss: 1.0031, \n",
      "Test Accuracy: 57.307449 %\n",
      "----------\n",
      "\n",
      "Epoch 4/40 \n",
      "\n",
      "Train Accuracy: 63.880139% , TrainLoss: 0.9592, \n",
      "Test Accuracy: 60.164141 %\n",
      "----------\n",
      "\n",
      "Epoch 5/40 \n",
      "\n",
      "Train Accuracy: 65.527603% , TrainLoss: 0.9050, \n",
      "Test Accuracy: 65.577652 %\n",
      "----------\n",
      "\n",
      "Epoch 6/40 \n",
      "\n",
      "Train Accuracy: 67.693137% , TrainLoss: 0.8573, \n",
      "Test Accuracy: 65.183081 %\n",
      "----------\n",
      "\n",
      "Epoch 7/40 \n",
      "\n",
      "Train Accuracy: 69.027686% , TrainLoss: 0.8343, \n",
      "Test Accuracy: 68.276515 %\n",
      "----------\n",
      "\n",
      "Epoch 8/40 \n",
      "\n",
      "Train Accuracy: 69.162384% , TrainLoss: 0.8193, \n",
      "Test Accuracy: 71.148990 %\n",
      "----------\n",
      "\n",
      "Epoch 9/40 \n",
      "\n",
      "Train Accuracy: 70.155007% , TrainLoss: 0.7934, \n",
      "Test Accuracy: 65.309343 %\n",
      "----------\n",
      "\n",
      "Epoch 10/40 \n",
      "\n",
      "Train Accuracy: 72.059433% , TrainLoss: 0.7611, \n",
      "Test Accuracy: 69.854798 %\n",
      "----------\n",
      "\n",
      "Epoch 11/40 \n",
      "\n",
      "Train Accuracy: 71.435676% , TrainLoss: 0.7564, \n",
      "Test Accuracy: 63.873106 %\n",
      "----------\n",
      "\n",
      "Epoch 12/40 \n",
      "\n",
      "Train Accuracy: 72.809599% , TrainLoss: 0.7387, \n",
      "Test Accuracy: 73.989899 %\n",
      "----------\n",
      "\n",
      "Epoch 13/40 \n",
      "\n",
      "Train Accuracy: 75.799901% , TrainLoss: 0.6595, \n",
      "Test Accuracy: 78.125000 %\n",
      "----------\n",
      "\n",
      "Epoch 14/40 \n",
      "\n",
      "Train Accuracy: 78.373674% , TrainLoss: 0.6110, \n",
      "Test Accuracy: 78.693182 %\n",
      "----------\n",
      "\n",
      "Epoch 15/40 \n",
      "\n",
      "Train Accuracy: 78.141578% , TrainLoss: 0.6009, \n",
      "Test Accuracy: 79.119318 %\n",
      "----------\n",
      "\n",
      "Epoch 16/40 \n",
      "\n",
      "Train Accuracy: 77.540617% , TrainLoss: 0.6005, \n",
      "Test Accuracy: 79.545455 %\n",
      "----------\n",
      "\n",
      "Epoch 17/40 \n",
      "\n",
      "Train Accuracy: 79.573525% , TrainLoss: 0.5756, \n",
      "Test Accuracy: 79.545455 %\n",
      "----------\n",
      "\n",
      "Epoch 18/40 \n",
      "\n",
      "Train Accuracy: 78.885527% , TrainLoss: 0.5712, \n",
      "Test Accuracy: 79.971591 %\n",
      "----------\n",
      "\n",
      "Epoch 19/40 \n",
      "\n",
      "Train Accuracy: 80.215932% , TrainLoss: 0.5516, \n",
      "Test Accuracy: 79.261364 %\n",
      "----------\n",
      "\n",
      "Epoch 20/40 \n",
      "\n",
      "Train Accuracy: 79.789042% , TrainLoss: 0.5608, \n",
      "Test Accuracy: 79.403409 %\n",
      "----------\n",
      "\n",
      "Epoch 21/40 \n",
      "\n",
      "Train Accuracy: 80.487401% , TrainLoss: 0.5524, \n",
      "Test Accuracy: 79.119318 %\n",
      "----------\n",
      "\n",
      "Epoch 22/40 \n",
      "\n",
      "Train Accuracy: 80.396220% , TrainLoss: 0.5424, \n",
      "Test Accuracy: 78.693182 %\n",
      "----------\n",
      "\n",
      "Epoch 23/40 \n",
      "\n",
      "Train Accuracy: 81.216844% , TrainLoss: 0.5259, \n",
      "Test Accuracy: 80.113636 %\n",
      "----------\n",
      "\n",
      "Epoch 24/40 \n",
      "\n",
      "Train Accuracy: 81.295590% , TrainLoss: 0.5335, \n",
      "Test Accuracy: 80.397727 %\n",
      "----------\n",
      "\n",
      "Epoch 25/40 \n",
      "\n",
      "Train Accuracy: 81.175398% , TrainLoss: 0.5190, \n",
      "Test Accuracy: 79.829545 %\n",
      "----------\n",
      "\n",
      "Epoch 26/40 \n",
      "\n",
      "Train Accuracy: 82.105852% , TrainLoss: 0.5121, \n",
      "Test Accuracy: 80.397727 %\n",
      "----------\n",
      "\n",
      "Epoch 27/40 \n",
      "\n",
      "Train Accuracy: 81.755637% , TrainLoss: 0.5170, \n",
      "Test Accuracy: 79.545455 %\n",
      "----------\n",
      "\n",
      "Epoch 28/40 \n",
      "\n",
      "Train Accuracy: 82.118286% , TrainLoss: 0.5062, \n",
      "Test Accuracy: 80.823864 %\n",
      "----------\n",
      "\n",
      "Epoch 29/40 \n",
      "\n",
      "Train Accuracy: 81.239639% , TrainLoss: 0.5141, \n",
      "Test Accuracy: 79.829545 %\n",
      "----------\n",
      "\n",
      "Epoch 30/40 \n",
      "\n",
      "Train Accuracy: 81.148458% , TrainLoss: 0.5106, \n",
      "Test Accuracy: 80.539773 %\n",
      "----------\n",
      "\n",
      "Epoch 31/40 \n",
      "\n",
      "Train Accuracy: 81.998094% , TrainLoss: 0.5043, \n",
      "Test Accuracy: 80.255682 %\n",
      "----------\n",
      "\n",
      "Epoch 32/40 \n",
      "\n",
      "Train Accuracy: 81.421999% , TrainLoss: 0.5128, \n",
      "Test Accuracy: 79.403409 %\n",
      "----------\n",
      "\n",
      "Epoch 33/40 \n",
      "\n",
      "Train Accuracy: 82.671585% , TrainLoss: 0.4940, \n",
      "Test Accuracy: 79.261364 %\n",
      "----------\n",
      "\n",
      "Epoch 34/40 \n",
      "\n",
      "Train Accuracy: 81.672745% , TrainLoss: 0.5069, \n",
      "Test Accuracy: 80.255682 %\n",
      "----------\n",
      "\n",
      "Epoch 35/40 \n",
      "\n",
      "Train Accuracy: 82.033322% , TrainLoss: 0.5119, \n",
      "Test Accuracy: 80.823864 %\n",
      "----------\n",
      "\n",
      "Epoch 36/40 \n",
      "\n",
      "Train Accuracy: 82.522381% , TrainLoss: 0.5071, \n",
      "Test Accuracy: 80.823864 %\n",
      "----------\n",
      "\n",
      "Epoch 37/40 \n",
      "\n",
      "Train Accuracy: 82.588694% , TrainLoss: 0.5010, \n",
      "Test Accuracy: 80.397727 %\n",
      "----------\n",
      "\n",
      "Epoch 38/40 \n",
      "\n",
      "Train Accuracy: 81.998094% , TrainLoss: 0.5087, \n",
      "Test Accuracy: 80.681818 %\n",
      "----------\n",
      "\n",
      "Epoch 39/40 \n",
      "\n",
      "Train Accuracy: 82.105852% , TrainLoss: 0.5087, \n",
      "Test Accuracy: 80.823864 %\n",
      "----------\n",
      "\n",
      "Epoch 40/40 \n",
      "\n",
      "Train Accuracy: 82.951343% , TrainLoss: 0.5022, \n",
      "Test Accuracy: 79.829545 %\n",
      "\n",
      "\n",
      "best_acc = 80.8239% \n",
      "\n",
      "Finished !!\n"
     ]
    }
   ],
   "source": [
    "if __name__ == \"__main__\":\n",
    "    print(\"Started Training Network\")\n",
    "    test_accuracies, train_losses =  train(num_epochs)\n",
    "    print(\"\\nFinished !!\")\n",
    "    "
   ]
  },
  {
   "cell_type": "markdown",
   "metadata": {},
   "source": [
    "### Output Plots"
   ]
  },
  {
   "cell_type": "code",
   "execution_count": 18,
   "metadata": {},
   "outputs": [
    {
     "data": {
      "text/plain": [
       "Text(0.5, 1.0, 'Flower Classifier: Accuracy vs Epochs')"
      ]
     },
     "execution_count": 18,
     "metadata": {},
     "output_type": "execute_result"
    },
    {
     "data": {
      "image/png": "[encoded data removed]",
      "text/plain": [
       "<Figure size 432x288 with 1 Axes>"
      ]
     },
     "metadata": {
      "needs_background": "light"
     },
     "output_type": "display_data"
    }
   ],
   "source": [
    "test_accuracies = [i*100 for i in test_accuracies]\n",
    "# plot the training progress\n",
    "plt.plot(range(0, len(test_accuracies)), test_accuracies)\n",
    "plt.xlabel('[number of epochs]')\n",
    "# plt.xlim([0, len(train_loss)])\n",
    "plt.ylabel('[Accuracies]')\n",
    "# plt.ylim([0.0, 1.0])\n",
    "plt.title('Flower Classifier: Accuracy vs Epochs')"
   ]
  },
  {
   "cell_type": "code",
   "execution_count": 19,
   "metadata": {},
   "outputs": [
    {
     "data": {
      "text/plain": [
       "Text(0.5, 1.0, 'Flower Classifier: Loss vs Epochs')"
      ]
     },
     "execution_count": 19,
     "metadata": {},
     "output_type": "execute_result"
    },
    {
     "data": {
      "image/png": "[encoded data removed]",
      "text/plain": [
       "<Figure size 432x288 with 1 Axes>"
      ]
     },
     "metadata": {
      "needs_background": "light"
     },
     "output_type": "display_data"
    }
   ],
   "source": [
    "# test_accuracies = [i*100 for i in test_accuracies]\n",
    "# plot the training progress\n",
    "plt.plot(range(0, len(train_losses)), train_losses)\n",
    "plt.xlabel('[training iterations]')\n",
    "# plt.xlim([0, len(train_loss)])\n",
    "plt.ylabel('[Training Loss]')\n",
    "# plt.ylim([0.0, 1.0])\n",
    "plt.title('Flower Classifier: Loss vs Epochs')"
   ]
  },
  {
   "cell_type": "markdown",
   "metadata": {},
   "source": [
    "The accuracy of this network comes out to be </t>    <font size = 4>   81.513 %</font>"
   ]
  }
 ],
 "metadata": {
  "kernelspec": {
   "display_name": "Python 3",
   "language": "python",
   "name": "python3"
  },
  "language_info": {
   "codemirror_mode": {
    "name": "ipython",
    "version": 3
   },
   "file_extension": ".py",
   "mimetype": "text/x-python",
   "name": "python",
   "nbconvert_exporter": "python",
   "pygments_lexer": "ipython3",
   "version": "3.5.2"
  }
 },
 "nbformat": 4,
 "nbformat_minor": 2
}
