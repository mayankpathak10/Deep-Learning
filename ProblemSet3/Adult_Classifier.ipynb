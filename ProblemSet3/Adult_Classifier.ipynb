{
 "cells": [
  {
   "cell_type": "markdown",
   "metadata": {},
   "source": [
    "## <div style=\"text-align: right\"> Mayank Pathak </div>\n",
    "# Problem Set 3\n",
    "## Question 2 \n",
    "### Classifying Adult Dataset "
   ]
  },
  {
   "cell_type": "markdown",
   "metadata": {},
   "source": [
    "### October 20, 2018\n",
    "\n",
    "- 1. **Introduction** \n",
    "    - 1.1 Importing Necessary libraries\n",
    "    - 1.2 Defining Hyper-Parameters\n",
    "- 2. **Data Preparation**\n",
    "    - 2.1  Load Data\n",
    "    - 2.2  Creating Dataset\n",
    "    - 2.3  Creating Data Loader\n",
    "- 3. **Neural Network**\n",
    "    - 3.1 Module Class for network\n",
    "    - 3.2 Function to implement testing\n",
    "    - 3.3 Function to adjust learning rate \n",
    "    - 3.4 Function to implement training\n",
    "- 4. **Evaluate Model**\n",
    "    - 4.1 Plot Accuracy and Loss curves"
   ]
  },
  {
   "cell_type": "markdown",
   "metadata": {},
   "source": [
    "### 1. Introduction\n",
    "\n",
    "#### 1.1 Importing necessary libraries:\n",
    "Libraries used for to create this network:\n",
    "    1. numpy\n",
    "    2. matplotlib\n",
    "    3. torch\n",
    "    4. sklearn\n",
    "    5. torch vision\n",
    "    6. os"
   ]
  },
  {
   "cell_type": "code",
   "execution_count": 363,
   "metadata": {},
   "outputs": [],
   "source": [
    "import os\n",
    "import numpy as np\n",
    "import torch\n",
    "import torch.nn as nn\n",
    "from torch import optim\n",
    "from torch import autograd\n",
    "import torch.nn.functional as F\n",
    "import matplotlib.pyplot as plt\n",
    "import torch.utils.data as Data\n",
    "from torch.autograd.variable import Variable\n",
    "import torchvision.datasets as dsets\n",
    "import torchvision.transforms as transforms\n",
    "from sklearn.model_selection import train_test_split\n",
    "\n",
    "%matplotlib inline"
   ]
  },
  {
   "cell_type": "markdown",
   "metadata": {},
   "source": [
    "#### 1.2 Defining Hyper-Parameters and other required Parameters\n",
    "The Hyper-Parameters for this model are:\n",
    "\n",
    "   1. **batch size:** batch size of 50 comes out to be giving good results and speed\n",
    "   2. **learning rate:** learning rate is used as 0.001\n",
    "   3. **weight decay:** standard weight decay is used as 0.0001. I tried other values, however this value works best\n",
    "   4. **epochs:** The network saturates after 17 epochs. total epochs kept: 20.\n",
    "   5. **optimizer:** After trying SGD and other optimizers, I used Adam optimizer."
   ]
  },
  {
   "cell_type": "code",
   "execution_count": 364,
   "metadata": {},
   "outputs": [],
   "source": [
    "# parameters\n",
    "\n",
    "batch_size = 50\n",
    "learning_rate = 0.001\n",
    "weight_decay = 0.0001\n",
    "num_epochs = 20\n",
    "input_size = 67\n",
    "num_classes = 2"
   ]
  },
  {
   "cell_type": "markdown",
   "metadata": {},
   "source": [
    "### 2. Data Preparation\n",
    "\n",
    "#### 2.1 Load Data\n",
    "The input images and labels are loaded using 'np.load' function to load the '.npy' files provided with the homework assignment. <br>\n",
    "\n",
    "> Number of Input Data : 45222 <br>"
   ]
  },
  {
   "cell_type": "code",
   "execution_count": 365,
   "metadata": {},
   "outputs": [],
   "source": [
    "input_data = np.load('Adult/data.npy').astype('float32')\n",
    "input_labels = np.load('Adult/labels.npy').astype('float32')\n",
    "\n"
   ]
  },
  {
   "cell_type": "markdown",
   "metadata": {},
   "source": [
    "the input data is then split between training and testing with 15% data kept for testing.\n",
    "\n",
    "> TrainImages shape: (36177) <br>\n",
    "> TestImages shape: (9045)"
   ]
  },
  {
   "cell_type": "code",
   "execution_count": 366,
   "metadata": {},
   "outputs": [],
   "source": [
    "train_data, test_data, train_labels, test_labels = train_test_split(input_data,input_labels,\n",
    "                                                    test_size=0.15)"
   ]
  },
  {
   "cell_type": "markdown",
   "metadata": {},
   "source": [
    "#### 2.2 Creating Dataset\n",
    "Input data and label are converted to tensor and are then wrapped into tensor Dataset "
   ]
  },
  {
   "cell_type": "code",
   "execution_count": 377,
   "metadata": {},
   "outputs": [],
   "source": [
    "\n",
    "#Create a training set\n",
    "tensor_x = torch.from_numpy(train_data).float()\n",
    "tensor_y = torch.from_numpy(train_labels).long()\n",
    "train_set = Data.TensorDataset(tensor_x,tensor_y)\n",
    "\n",
    "#Create a test set\n",
    "tensor_x = torch.from_numpy(test_data).float()\n",
    "tensor_y = torch.from_numpy(test_labels).long()\n",
    "test_set = Data.TensorDataset(tensor_x,tensor_y)\n"
   ]
  },
  {
   "cell_type": "markdown",
   "metadata": {},
   "source": [
    "#### 2.3 Creating Data Loader\n",
    "The dataset created above is used to make data loader of defined batch size. The data for training is shuffled for every epoch while it is not for testing."
   ]
  },
  {
   "cell_type": "code",
   "execution_count": 378,
   "metadata": {},
   "outputs": [],
   "source": [
    "train_loader = Data.DataLoader(dataset=train_set, batch_size=batch_size, shuffle= True)\n",
    "\n",
    "test_loader = Data.DataLoader(dataset = test_set, batch_size=batch_size, shuffle=False)\n"
   ]
  },
  {
   "cell_type": "markdown",
   "metadata": {},
   "source": [
    "### Neural Network\n",
    "\n",
    "#### 3.1 Module Class for network\n",
    "To implement the network using pytorch, a class 'Net' is created with argument 'nn.Module' which allows to use it as a network. It makes the network implementation easier."
   ]
  },
  {
   "cell_type": "code",
   "execution_count": 369,
   "metadata": {},
   "outputs": [],
   "source": [
    "class Net(nn.Module):\n",
    "    def __init__(self, input_size, num_classes):\n",
    "        super(Net, self).__init__()\n",
    "        self.fc1 = nn.Sequential(\n",
    "            nn.Linear(input_size, 35),\n",
    "            nn.ReLU())\n",
    "        self.fc2 = nn.Sequential(\n",
    "            nn.Linear(35, 55),\n",
    "            nn.ReLU())\n",
    "        self.dout = nn.Dropout(0.2)\n",
    "        self.fc3 = nn.Sequential(\n",
    "            nn.Linear(55,35),\n",
    "            nn.ReLU())\n",
    "        self.fc4 = nn.Sequential(\n",
    "            nn.Linear(35,num_classes))\n",
    "        \n",
    "    def forward(self, x):\n",
    "        out = self.fc1(x)\n",
    "        out = self.fc2(out)\n",
    "        out = self.dout(out)\n",
    "        out = self.fc3(out)\n",
    "        out = self.fc4(out)\n",
    "        return out"
   ]
  },
  {
   "cell_type": "markdown",
   "metadata": {},
   "source": [
    "#### 3.2 Function to implement testing\n",
    "The data is loaded with the test loader and predicted output is compared with the actual output."
   ]
  },
  {
   "cell_type": "code",
   "execution_count": 370,
   "metadata": {},
   "outputs": [],
   "source": [
    "def test():\n",
    "    model.eval()\n",
    "    test_acc = 0.0\n",
    "    for i, (data, labels) in enumerate(test_loader):\n",
    "\n",
    "        # Predict classes using images from the test set\n",
    "        data = Variable(data)\n",
    "        labels = Variable(labels)\n",
    "        outputs = model(data)\n",
    "        _, prediction = torch.max(outputs.data, 1)\n",
    "        \n",
    "#         prediction = prediction.data\n",
    "#         prediction =\n",
    "        test_acc = (i*test_acc +\n",
    "                    torch.mean(prediction.eq(labels.data).float()))/(i+1)\n",
    "\n",
    "    # Compute the average acc and loss over all 10000 test images\n",
    "#     test_acc = test_acc / 10000\n",
    "\n",
    "    return test_acc"
   ]
  },
  {
   "cell_type": "markdown",
   "metadata": {},
   "source": [
    "#### 3.3 Function to adjust learning rate \n",
    "The initial learning rate for the network is taken as 0.001. The learning rate is then adjusted rate as the network progresses with the epochs. Please see the below code cell for more details:"
   ]
  },
  {
   "cell_type": "code",
   "execution_count": 371,
   "metadata": {},
   "outputs": [],
   "source": [
    "\n",
    "# Create a learning rate adjustment function that divides the learning rate by 10 every 30 epochs\n",
    "def adjust_learning_rate(epoch):\n",
    "    lr = learning_rate\n",
    "\n",
    "    if epoch > 100:\n",
    "        lr = lr / 1000000\n",
    "    elif epoch > 50:\n",
    "        lr = lr / 100000\n",
    "    elif epoch > 20:\n",
    "        lr = lr / 10000\n",
    "    elif epoch > 10:\n",
    "        lr = lr / 1000\n",
    "    elif epoch > 5:\n",
    "        lr = lr / 100\n",
    "    elif epoch > 2:\n",
    "        lr = lr / 10\n",
    "\n",
    "    for param_group in optimizer.param_groups:\n",
    "        param_group[\"lr\"] = lr"
   ]
  },
  {
   "cell_type": "markdown",
   "metadata": {},
   "source": [
    "Object for the class is created and loss function is defined"
   ]
  },
  {
   "cell_type": "code",
   "execution_count": 372,
   "metadata": {},
   "outputs": [],
   "source": [
    "model = Net(input_size, num_classes)\n",
    "criterion = nn.CrossEntropyLoss()\n",
    "optimizer = optim.Adam(model.parameters(), lr = learning_rate, weight_decay= weight_decay, betas = (0.9,0.999))"
   ]
  },
  {
   "cell_type": "markdown",
   "metadata": {},
   "source": [
    "#### 3.4 Function to implement training\n",
    "below code cell runs the training loop for the given number of epochs and calcualtes the parameters. </br>\n",
    "It also calls the testing function at every epoch."
   ]
  },
  {
   "cell_type": "code",
   "execution_count": 373,
   "metadata": {},
   "outputs": [],
   "source": [
    "def train(num_epochs):\n",
    "    best_acc = 0.0\n",
    "    test_accuracies = []\n",
    "    train_accuracies = []\n",
    "    train_losses = []\n",
    "    for epoch in range(num_epochs):\n",
    "        print('-'*10)\n",
    "        print(\"Epoch: {}/{} \\n\".format(epoch+1,num_epochs))\n",
    "    #     losses = []\n",
    "        train_acc = 0.0\n",
    "        train_loss = 0.0\n",
    "        model.train()\n",
    "        for i ,(x, y) in enumerate(train_loader):\n",
    "            optimizer.zero_grad()\n",
    "\n",
    "            inputs =  Variable(x)\n",
    "            output = model(inputs)\n",
    "            targets = Variable(y.squeeze(-1))\n",
    "            targets = targets.type(torch.LongTensor)\n",
    "            \n",
    "#             print(type(output))\n",
    "#             output = output.type(torch.LongTensor)\n",
    "            loss = criterion(output, targets)\n",
    "            loss.backward()\n",
    "            optimizer.step()\n",
    "            y = Variable(y)\n",
    "            train_loss = (train_loss*i + loss.data[0])/(i+1)\n",
    "            _, prediction = torch.max(output.data, 1)\n",
    "\n",
    "            train_acc = (i*train_acc +\n",
    "                 torch.mean(prediction.eq(y.data).float()))/(i+1)\n",
    "    #         break\n",
    "            adjust_learning_rate(epoch)\n",
    "            train_losses.append(train_loss)\n",
    "            \n",
    "#     break\n",
    "        # Evaluate on the test set\n",
    "        test_acc = test()\n",
    "        test_accuracies.append(test_acc)\n",
    "        train_accuracies.append(train_acc)\n",
    "        # Save the model if the test acc is greater than our current best\n",
    "        if test_acc > best_acc:\n",
    "#             save_models(epoch)\n",
    "            best_acc = test_acc\n",
    "            \n",
    "\n",
    "        # Print the metrics\n",
    "        print(\"Train Accuracy: {:.6f}% , TrainLoss: {:.4f}, \\nTest Accuracy: {:.6f} %\".format(train_acc*100, train_loss,test_acc*100))\n",
    "    print('\\n\\nbest_acc = {:.4f}% '.format(best_acc*100))\n",
    "    \n",
    "    return test_accuracies,train_accuracies, train_losses"
   ]
  },
  {
   "cell_type": "markdown",
   "metadata": {},
   "source": [
    "__Training Function is called to execute the network__"
   ]
  },
  {
   "cell_type": "code",
   "execution_count": 374,
   "metadata": {
    "scrolled": true
   },
   "outputs": [
    {
     "name": "stdout",
     "output_type": "stream",
     "text": [
      "Started Training Network\n",
      "----------\n",
      "Epoch: 1/20 \n",
      "\n",
      "Train Accuracy: 81.011156% , TrainLoss: 0.4046, \n",
      "Test Accuracy: 81.641869 %\n",
      "----------\n",
      "Epoch: 2/20 \n",
      "\n",
      "Train Accuracy: 83.497365% , TrainLoss: 0.3507, \n",
      "Test Accuracy: 83.480104 %\n",
      "----------\n",
      "Epoch: 3/20 \n",
      "\n",
      "Train Accuracy: 84.034905% , TrainLoss: 0.3432, \n",
      "Test Accuracy: 84.002595 %\n",
      "----------\n",
      "Epoch: 4/20 \n",
      "\n",
      "Train Accuracy: 84.541236% , TrainLoss: 0.3314, \n",
      "Test Accuracy: 84.164360 %\n",
      "----------\n",
      "Epoch: 5/20 \n",
      "\n",
      "Train Accuracy: 84.588871% , TrainLoss: 0.3300, \n",
      "Test Accuracy: 83.950692 %\n",
      "----------\n",
      "Epoch: 6/20 \n",
      "\n",
      "Train Accuracy: 84.615016% , TrainLoss: 0.3289, \n",
      "Test Accuracy: 84.112457 %\n",
      "----------\n",
      "Epoch: 7/20 \n",
      "\n",
      "Train Accuracy: 84.776264% , TrainLoss: 0.3273, \n",
      "Test Accuracy: 84.200692 %\n",
      "----------\n",
      "Epoch: 8/20 \n",
      "\n",
      "Train Accuracy: 84.748340% , TrainLoss: 0.3272, \n",
      "Test Accuracy: 84.303633 %\n",
      "----------\n",
      "Epoch: 9/20 \n",
      "\n",
      "Train Accuracy: 84.783109% , TrainLoss: 0.3270, \n",
      "Test Accuracy: 84.185986 %\n",
      "----------\n",
      "Epoch: 10/20 \n",
      "\n",
      "Train Accuracy: 84.717268% , TrainLoss: 0.3268, \n",
      "Test Accuracy: 84.200692 %\n",
      "----------\n",
      "Epoch: 11/20 \n",
      "\n",
      "Train Accuracy: 84.764766% , TrainLoss: 0.3265, \n",
      "Test Accuracy: 84.185986 %\n",
      "----------\n",
      "Epoch: 12/20 \n",
      "\n",
      "Train Accuracy: 84.721511% , TrainLoss: 0.3265, \n",
      "Test Accuracy: 84.156574 %\n",
      "----------\n",
      "Epoch: 13/20 \n",
      "\n",
      "Train Accuracy: 84.716310% , TrainLoss: 0.3265, \n",
      "Test Accuracy: 84.259516 %\n",
      "----------\n",
      "Epoch: 14/20 \n",
      "\n",
      "Train Accuracy: 84.712066% , TrainLoss: 0.3262, \n",
      "Test Accuracy: 84.230104 %\n",
      "----------\n",
      "Epoch: 15/20 \n",
      "\n",
      "Train Accuracy: 84.714530% , TrainLoss: 0.3265, \n",
      "Test Accuracy: 84.230104 %\n",
      "----------\n",
      "Epoch: 16/20 \n",
      "\n",
      "Train Accuracy: 84.670317% , TrainLoss: 0.3268, \n",
      "Test Accuracy: 84.230104 %\n",
      "----------\n",
      "Epoch: 17/20 \n",
      "\n",
      "Train Accuracy: 84.775443% , TrainLoss: 0.3264, \n",
      "Test Accuracy: 84.215398 %\n",
      "----------\n",
      "Epoch: 18/20 \n",
      "\n",
      "Train Accuracy: 84.799535% , TrainLoss: 0.3259, \n",
      "Test Accuracy: 84.215398 %\n",
      "----------\n",
      "Epoch: 19/20 \n",
      "\n",
      "Train Accuracy: 84.800493% , TrainLoss: 0.3266, \n",
      "Test Accuracy: 84.230104 %\n",
      "----------\n",
      "Epoch: 20/20 \n",
      "\n",
      "Train Accuracy: 84.750120% , TrainLoss: 0.3266, \n",
      "Test Accuracy: 84.230104 %\n",
      "\n",
      "\n",
      "best_acc = 84.3036% \n",
      "\n",
      "\n",
      "Finished !!\n"
     ]
    }
   ],
   "source": [
    "if __name__ == \"__main__\":\n",
    "    print(\"Started Training Network\")\n",
    "    test_accuracies,train_accuracies, train_losses = train(num_epochs)\n",
    "    print(\"\\n\\nFinished !!\")\n",
    "test_accuracies = [i*100 for i in test_accuracies]\n",
    "train_accuracies = [i*100 for i in train_accuracies]"
   ]
  },
  {
   "cell_type": "markdown",
   "metadata": {},
   "source": [
    "### 4. Evaluate Model\n",
    "#### 4.1 Output Plots"
   ]
  },
  {
   "cell_type": "code",
   "execution_count": 375,
   "metadata": {},
   "outputs": [
    {
     "data": {
      "text/plain": [
       "<matplotlib.legend.Legend at 0x7f9ce10c10b8>"
      ]
     },
     "execution_count": 375,
     "metadata": {},
     "output_type": "execute_result"
    },
    {
     "data": {
      "image/png": "[encoded data removed]",
      "text/plain": [
       "<Figure size 432x288 with 1 Axes>"
      ]
     },
     "metadata": {
      "needs_background": "light"
     },
     "output_type": "display_data"
    }
   ],
   "source": [
    "\n",
    "# plot the training progress\n",
    "plt.plot(range(0, len(test_accuracies)), test_accuracies, range(0, len(train_accuracies)), train_accuracies)\n",
    "plt.xlabel('number of epochs')\n",
    "# plt.xlim([0, len(train_loss)])\n",
    "plt.ylabel('Accuracies')\n",
    "# plt.ylim([0.0, 1.0])\n",
    "plt.title('Flower Classifier: Accuracy vs Epochs')\n",
    "plt.legend(['test accuracy','training accuracy'])"
   ]
  },
  {
   "cell_type": "code",
   "execution_count": 376,
   "metadata": {},
   "outputs": [
    {
     "data": {
      "text/plain": [
       "Text(0.5, 1.0, 'Flower Classifier: Loss vs Epochs')"
      ]
     },
     "execution_count": 376,
     "metadata": {},
     "output_type": "execute_result"
    },
    {
     "data": {
      "image/png": "[encoded data removed]",
      "text/plain": [
       "<Figure size 432x288 with 1 Axes>"
      ]
     },
     "metadata": {
      "needs_background": "light"
     },
     "output_type": "display_data"
    }
   ],
   "source": [
    "# plot the training progress\n",
    "plt.plot(range(0, len(train_losses)), train_losses)\n",
    "plt.xlabel('training iterations')\n",
    "# plt.xlim([0, len(train_loss)])\n",
    "plt.ylabel('Training Loss')\n",
    "# plt.ylim([0.0, 1.0])\n",
    "plt.title('Flower Classifier: Loss vs Epochs')"
   ]
  }
 ],
 "metadata": {
  "kernelspec": {
   "display_name": "Python 3",
   "language": "python",
   "name": "python3"
  },
  "language_info": {
   "codemirror_mode": {
    "name": "ipython",
    "version": 3
   },
   "file_extension": ".py",
   "mimetype": "text/x-python",
   "name": "python",
   "nbconvert_exporter": "python",
   "pygments_lexer": "ipython3",
   "version": "3.5.2"
  }
 },
 "nbformat": 4,
 "nbformat_minor": 2
}
