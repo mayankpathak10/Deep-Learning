{
 "cells": [
  {
   "cell_type": "markdown",
   "metadata": {},
   "source": [
    "## <div style=\"text-align: right\"> Mayank Pathak </div>\n",
    "# Problem Set 3\n",
    "## Question 2 \n",
    "### Classifying Adult Dataset "
   ]
  },
  {
   "cell_type": "markdown",
   "metadata": {},
   "source": [
    "### October 20, 2018\n",
    "\n",
    "- 1. **Introduction** \n",
    "    - 1.1 Importing Necessary libraries\n",
    "    - 1.2 Defining Hyper-Parameters\n",
    "- 2. **Data Preparation**\n",
    "    - 2.1  Load Data\n",
    "    - 2.2  Creating Dataset\n",
    "    - 2.3  Creating Data Loader\n",
    "- 3. **Neural Network**\n",
    "    - 3.1 Module Class for network\n",
    "    - 3.2 Function to implement testing\n",
    "    - 3.3 Function to adjust learning rate \n",
    "    - 3.4 Function to implement training\n",
    "- 4. **Evaluate Model**\n",
    "    - 4.1 Plot Accuracy and Loss curves"
   ]
  },
  {
   "cell_type": "markdown",
   "metadata": {},
   "source": [
    "### 1. Introduction\n",
    "\n",
    "#### 1.1 Importing necessary libraries:\n",
    "Libraries used for to create this network:\n",
    "    1. numpy\n",
    "    2. matplotlib\n",
    "    3. torch\n",
    "    4. sklearn\n",
    "    5. torch vision\n",
    "    6. os"
   ]
  },
  {
   "cell_type": "code",
   "execution_count": 34,
   "metadata": {},
   "outputs": [],
   "source": [
    "import os\n",
    "import numpy as np\n",
    "import torch\n",
    "import torch.nn as nn\n",
    "from torch import optim\n",
    "from torch import autograd\n",
    "import torch.nn.functional as F\n",
    "import matplotlib.pyplot as plt\n",
    "import torch.utils.data as Data\n",
    "from torch.autograd.variable import Variable\n",
    "import torchvision.datasets as dsets\n",
    "import torchvision.transforms as transforms\n",
    "from sklearn.model_selection import train_test_split\n",
    "\n",
    "%matplotlib inline"
   ]
  },
  {
   "cell_type": "markdown",
   "metadata": {},
   "source": [
    "#### 1.2 Defining Hyper-Parameters and other required Parameters\n",
    "The Hyper-Parameters for this model are:\n",
    "\n",
    "   1. **batch size:** batch size of 50 comes out to be giving good results and speed\n",
    "   2. **learning rate:** learning rate is used as 0.001\n",
    "   3. **weight decay:** standard weight decay is used as 0.0001. I tried other values, however this value works best\n",
    "   4. **epochs:** The network saturates after 17 epochs. total epochs kept: 20.\n",
    "   5. **optimizer:** After trying SGD and other optimizers, I used Adam optimizer."
   ]
  },
  {
   "cell_type": "code",
   "execution_count": 35,
   "metadata": {},
   "outputs": [],
   "source": [
    "# parameters\n",
    "\n",
    "batch_size = 50\n",
    "learning_rate = 0.001\n",
    "weight_decay = 0.0001\n",
    "num_epochs = 2\n",
    "input_size = 67\n",
    "num_classes = 2"
   ]
  },
  {
   "cell_type": "markdown",
   "metadata": {},
   "source": [
    "### 2. Data Preparation\n",
    "\n",
    "#### 2.1 Load Data\n",
    "The input images and labels are loaded using 'np.load' function to load the '.npy' files provided with the homework assignment. <br>\n",
    "\n",
    "> Number of Input Data : 45222 <br>"
   ]
  },
  {
   "cell_type": "code",
   "execution_count": 36,
   "metadata": {},
   "outputs": [],
   "source": [
    "input_data = np.load('Adult/data.npy').astype('float32')\n",
    "input_labels = np.load('Adult/labels.npy').astype('float32')\n",
    "\n"
   ]
  },
  {
   "cell_type": "markdown",
   "metadata": {},
   "source": [
    "the input data is then split between training and testing with 15% data kept for testing.\n",
    "\n",
    "> TrainImages shape: (36177) <br>\n",
    "> TestImages shape: (9045)"
   ]
  },
  {
   "cell_type": "code",
   "execution_count": 37,
   "metadata": {},
   "outputs": [],
   "source": [
    "train_data, test_data, train_labels, test_labels = train_test_split(input_data,input_labels,\n",
    "                                                    test_size=0.15)"
   ]
  },
  {
   "cell_type": "markdown",
   "metadata": {},
   "source": [
    "#### 2.2 Creating Dataset\n",
    "Input data and label are converted to tensor and are then wrapped into tensor Dataset "
   ]
  },
  {
   "cell_type": "code",
   "execution_count": 38,
   "metadata": {},
   "outputs": [],
   "source": [
    "\n",
    "#Create a training set\n",
    "tensor_x = torch.from_numpy(train_data).float()\n",
    "tensor_y = torch.from_numpy(train_labels).long()\n",
    "train_set = Data.TensorDataset(tensor_x,tensor_y)\n",
    "\n",
    "#Create a test set\n",
    "tensor_x = torch.from_numpy(test_data).float()\n",
    "tensor_y = torch.from_numpy(test_labels).long()\n",
    "test_set = Data.TensorDataset(tensor_x,tensor_y)\n"
   ]
  },
  {
   "cell_type": "markdown",
   "metadata": {},
   "source": [
    "#### 2.3 Creating Data Loader\n",
    "The dataset created above is used to make data loader of defined batch size. The data for training is shuffled for every epoch while it is not for testing."
   ]
  },
  {
   "cell_type": "code",
   "execution_count": 39,
   "metadata": {},
   "outputs": [],
   "source": [
    "train_loader = Data.DataLoader(dataset=train_set, batch_size=batch_size, shuffle= True)\n",
    "\n",
    "test_loader = Data.DataLoader(dataset = test_set, batch_size=batch_size, shuffle=False)\n"
   ]
  },
  {
   "cell_type": "markdown",
   "metadata": {},
   "source": [
    "### Neural Network\n",
    "\n",
    "#### 3.1 Module Class for network\n",
    "To implement the network using pytorch, a class 'Net' is created with argument 'nn.Module' which allows to use it as a network. It makes the network implementation easier."
   ]
  },
  {
   "cell_type": "code",
   "execution_count": 40,
   "metadata": {},
   "outputs": [],
   "source": [
    "class Net(nn.Module):\n",
    "    def __init__(self, input_size, num_classes):\n",
    "        super(Net, self).__init__()\n",
    "        self.fc1 = nn.Sequential(\n",
    "            nn.Linear(input_size, 35),\n",
    "            nn.ReLU())\n",
    "        self.fc2 = nn.Sequential(\n",
    "            nn.Linear(35, 55),\n",
    "            nn.ReLU())\n",
    "        self.dout = nn.Dropout(0.2)\n",
    "        self.fc3 = nn.Sequential(\n",
    "            nn.Linear(55,35),\n",
    "            nn.ReLU())\n",
    "        self.fc4 = nn.Sequential(\n",
    "            nn.Linear(35,num_classes))\n",
    "        \n",
    "    def forward(self, x):\n",
    "        out = self.fc1(x)\n",
    "        out = self.fc2(out)\n",
    "        out = self.dout(out)\n",
    "        out = self.fc3(out)\n",
    "        out = self.fc4(out)\n",
    "        return out"
   ]
  },
  {
   "cell_type": "markdown",
   "metadata": {},
   "source": [
    "#### 3.2 Function to implement testing\n",
    "The data is loaded with the test loader and predicted output is compared with the actual output."
   ]
  },
  {
   "cell_type": "code",
   "execution_count": 41,
   "metadata": {},
   "outputs": [],
   "source": [
    "def test():\n",
    "    model.eval()\n",
    "    test_acc = 0.0\n",
    "    for i, (data, labels) in enumerate(test_loader):\n",
    "\n",
    "        # Predict classes using images from the test set\n",
    "        data = Variable(data)\n",
    "        labels = Variable(labels)\n",
    "        outputs = model(data)\n",
    "        _, prediction = torch.max(outputs.data, 1)\n",
    "        \n",
    "#         prediction = prediction.data\n",
    "#         prediction =\n",
    "        test_acc = (i*test_acc +\n",
    "                    torch.mean(prediction.eq(labels.data).float()))/(i+1)\n",
    "\n",
    "    # Compute the average acc and loss over all 10000 test images\n",
    "#     test_acc = test_acc / 10000\n",
    "\n",
    "    return test_acc"
   ]
  },
  {
   "cell_type": "markdown",
   "metadata": {},
   "source": [
    "#### 3.3 Function to adjust learning rate \n",
    "The initial learning rate for the network is taken as 0.001. The learning rate is then adjusted rate as the network progresses with the epochs. Please see the below code cell for more details:"
   ]
  },
  {
   "cell_type": "code",
   "execution_count": 42,
   "metadata": {},
   "outputs": [],
   "source": [
    "\n",
    "# Create a learning rate adjustment function that divides the learning rate by 10 every 30 epochs\n",
    "def adjust_learning_rate(epoch):\n",
    "    lr = learning_rate\n",
    "\n",
    "    if epoch > 100:\n",
    "        lr = lr / 1000000\n",
    "    elif epoch > 50:\n",
    "        lr = lr / 100000\n",
    "    elif epoch > 20:\n",
    "        lr = lr / 10000\n",
    "    elif epoch > 10:\n",
    "        lr = lr / 1000\n",
    "    elif epoch > 5:\n",
    "        lr = lr / 100\n",
    "    elif epoch > 2:\n",
    "        lr = lr / 10\n",
    "\n",
    "    for param_group in optimizer.param_groups:\n",
    "        param_group[\"lr\"] = lr"
   ]
  },
  {
   "cell_type": "markdown",
   "metadata": {},
   "source": [
    "Object for the class is created and loss function is defined"
   ]
  },
  {
   "cell_type": "code",
   "execution_count": 43,
   "metadata": {},
   "outputs": [],
   "source": [
    "model = Net(input_size, num_classes)\n",
    "criterion = nn.CrossEntropyLoss()\n",
    "optimizer = optim.Adam(model.parameters(), lr = learning_rate, weight_decay= weight_decay, betas = (0.9,0.999))"
   ]
  },
  {
   "cell_type": "markdown",
   "metadata": {},
   "source": [
    "#### 3.4 Function to implement training\n",
    "below code cell runs the training loop for the given number of epochs and calcualtes the parameters. </br>\n",
    "It also calls the testing function at every epoch."
   ]
  },
  {
   "cell_type": "code",
   "execution_count": 44,
   "metadata": {},
   "outputs": [],
   "source": [
    "def train(num_epochs):\n",
    "    best_acc = 0.0\n",
    "    test_accuracies = []\n",
    "    train_accuracies = []\n",
    "    train_losses = []\n",
    "    for epoch in range(num_epochs):\n",
    "        print('-'*10)\n",
    "        print(\"Epoch: {}/{} \\n\".format(epoch+1,num_epochs))\n",
    "    #     losses = []\n",
    "        train_acc = 0.0\n",
    "        train_loss = 0.0\n",
    "        model.train()\n",
    "        for i ,(x, y) in enumerate(train_loader):\n",
    "            optimizer.zero_grad()\n",
    "\n",
    "            inputs =  Variable(x)\n",
    "            output = model(inputs)\n",
    "            targets = Variable(y.squeeze(-1))\n",
    "            targets = targets.type(torch.LongTensor)\n",
    "\n",
    "#             output = output.type(torch.LongTensor)\n",
    "            loss = criterion(output, targets)\n",
    "            loss.backward()\n",
    "            optimizer.step()\n",
    "            y = Variable(y)\n",
    "            train_loss = (train_loss*i + loss.data[0])/(i+1)\n",
    "            _, prediction = torch.max(output.data, 1)\n",
    "\n",
    "            train_acc = (i*train_acc +\n",
    "                 torch.mean(prediction.eq(y.data).float()))/(i+1)\n",
    "    #         break\n",
    "            adjust_learning_rate(epoch)\n",
    "            train_losses.append(train_loss)\n",
    "            \n",
    "#     break\n",
    "        # Evaluate on the test set\n",
    "        test_acc = test()\n",
    "        test_accuracies.append(test_acc)\n",
    "        train_accuracies.append(train_acc)\n",
    "        # Save the model if the test acc is greater than our current best\n",
    "        if test_acc > best_acc:\n",
    "#             save_models(epoch)\n",
    "            best_acc = test_acc\n",
    "            \n",
    "\n",
    "        # Print the metrics\n",
    "        print(\"Train Accuracy: {:.6f}% , TrainLoss: {:.4f}, \\nTest Accuracy: {:.6f} %\".format(train_acc*100, train_loss,test_acc*100))\n",
    "    print('\\n\\nbest_acc = {:.4f}% '.format(best_acc*100))\n",
    "    \n",
    "    return test_accuracies,train_accuracies, train_losses"
   ]
  },
  {
   "cell_type": "code",
   "execution_count": 96,
   "metadata": {},
   "outputs": [],
   "source": [
    "def plot_kernels(tensor, num_cols=3):\n",
    "    num_rows = 3\n",
    "    fig = plt.figure(figsize=(num_cols,num_rows))\n",
    "    i = 0\n",
    "    for t in tensor:\n",
    "        ax1 = fig.add_subplot(num_rows,num_cols,i+1)\n",
    "        pilTrans = transforms.ToPILImage()\n",
    "        pilImg = pilTrans(t)\n",
    "        ax1.imshow(pilImg, interpolation='none')\n",
    "        print(tensor[i])\n",
    "        ax1.axis('off')\n",
    "        ax1.set_xticklabels([])\n",
    "        ax1.set_yticklabels([])\n",
    "        i+=1\n",
    "\n",
    "    plt.subplots_adjust(wspace=0.1, hspace=0.1)\n",
    "    plt.show()"
   ]
  },
  {
   "cell_type": "code",
   "execution_count": null,
   "metadata": {},
   "outputs": [],
   "source": []
  },
  {
   "cell_type": "markdown",
   "metadata": {},
   "source": [
    "__Training Function is called to execute the network__"
   ]
  },
  {
   "cell_type": "code",
   "execution_count": 46,
   "metadata": {
    "scrolled": true
   },
   "outputs": [
    {
     "name": "stdout",
     "output_type": "stream",
     "text": [
      "Started Training Network\n",
      "----------\n",
      "Epoch: 1/2 \n",
      "\n",
      "Train Accuracy: 81.491479% , TrainLoss: 0.3960, \n",
      "Test Accuracy: 83.701557 %\n",
      "----------\n",
      "Epoch: 2/2 \n",
      "\n",
      "Train Accuracy: 83.775922% , TrainLoss: 0.3468, \n",
      "Test Accuracy: 84.097751 %\n",
      "\n",
      "\n",
      "best_acc = 84.0978% \n",
      "\n",
      "\n",
      "Finished !!\n"
     ]
    }
   ],
   "source": [
    "if __name__ == \"__main__\":\n",
    "    print(\"Started Training Network\")\n",
    "    test_accuracies,train_accuracies, train_losses = train(num_epochs)\n",
    "    print(\"\\n\\nFinished !!\")\n",
    "test_accuracies = [i*100 for i in test_accuracies]\n",
    "train_accuracies = [i*100 for i in train_accuracies]"
   ]
  },
  {
   "cell_type": "code",
   "execution_count": 97,
   "metadata": {},
   "outputs": [
    {
     "ename": "TypeError",
     "evalue": "pic should be Tensor or ndarray. Got <class 'torch.FloatTensor'>.",
     "output_type": "error",
     "traceback": [
      "\u001b[0;31m---------------------------------------------------------------------------\u001b[0m",
      "\u001b[0;31mTypeError\u001b[0m                                 Traceback (most recent call last)",
      "\u001b[0;32m<ipython-input-97-1102711201e8>\u001b[0m in \u001b[0;36m<module>\u001b[0;34m\u001b[0m\n\u001b[1;32m      3\u001b[0m     \u001b[0;32mif\u001b[0m \u001b[0misinstance\u001b[0m\u001b[0;34m(\u001b[0m\u001b[0mm\u001b[0m\u001b[0;34m,\u001b[0m \u001b[0mnn\u001b[0m\u001b[0;34m.\u001b[0m\u001b[0mLinear\u001b[0m\u001b[0;34m)\u001b[0m\u001b[0;34m:\u001b[0m\u001b[0;34m\u001b[0m\u001b[0m\n\u001b[1;32m      4\u001b[0m         \u001b[0;32mif\u001b[0m \u001b[0mi\u001b[0m \u001b[0;34m==\u001b[0m \u001b[0;36m0\u001b[0m\u001b[0;34m:\u001b[0m\u001b[0;34m\u001b[0m\u001b[0m\n\u001b[0;32m----> 5\u001b[0;31m             \u001b[0mplot_kernels\u001b[0m\u001b[0;34m(\u001b[0m\u001b[0mm\u001b[0m\u001b[0;34m.\u001b[0m\u001b[0mweight\u001b[0m\u001b[0;34m.\u001b[0m\u001b[0mdata\u001b[0m\u001b[0;34m)\u001b[0m\u001b[0;34m\u001b[0m\u001b[0m\n\u001b[0m\u001b[1;32m      6\u001b[0m \u001b[0;31m#       plt.savefig('result.png')\u001b[0m\u001b[0;34m\u001b[0m\u001b[0;34m\u001b[0m\u001b[0m\n",
      "\u001b[0;32m<ipython-input-96-7f9b4bc059b9>\u001b[0m in \u001b[0;36mplot_kernels\u001b[0;34m(tensor, num_cols)\u001b[0m\n\u001b[1;32m      6\u001b[0m         \u001b[0max1\u001b[0m \u001b[0;34m=\u001b[0m \u001b[0mfig\u001b[0m\u001b[0;34m.\u001b[0m\u001b[0madd_subplot\u001b[0m\u001b[0;34m(\u001b[0m\u001b[0mnum_rows\u001b[0m\u001b[0;34m,\u001b[0m\u001b[0mnum_cols\u001b[0m\u001b[0;34m,\u001b[0m\u001b[0mi\u001b[0m\u001b[0;34m+\u001b[0m\u001b[0;36m1\u001b[0m\u001b[0;34m)\u001b[0m\u001b[0;34m\u001b[0m\u001b[0m\n\u001b[1;32m      7\u001b[0m         \u001b[0mpilTrans\u001b[0m \u001b[0;34m=\u001b[0m \u001b[0mtransforms\u001b[0m\u001b[0;34m.\u001b[0m\u001b[0mToPILImage\u001b[0m\u001b[0;34m(\u001b[0m\u001b[0;34m)\u001b[0m\u001b[0;34m\u001b[0m\u001b[0m\n\u001b[0;32m----> 8\u001b[0;31m         \u001b[0mpilImg\u001b[0m \u001b[0;34m=\u001b[0m \u001b[0mpilTrans\u001b[0m\u001b[0;34m(\u001b[0m\u001b[0mt\u001b[0m\u001b[0;34m)\u001b[0m\u001b[0;34m\u001b[0m\u001b[0m\n\u001b[0m\u001b[1;32m      9\u001b[0m         \u001b[0max1\u001b[0m\u001b[0;34m.\u001b[0m\u001b[0mimshow\u001b[0m\u001b[0;34m(\u001b[0m\u001b[0mpilImg\u001b[0m\u001b[0;34m,\u001b[0m \u001b[0minterpolation\u001b[0m\u001b[0;34m=\u001b[0m\u001b[0;34m'none'\u001b[0m\u001b[0;34m)\u001b[0m\u001b[0;34m\u001b[0m\u001b[0m\n\u001b[1;32m     10\u001b[0m         \u001b[0mprint\u001b[0m\u001b[0;34m(\u001b[0m\u001b[0mtensor\u001b[0m\u001b[0;34m[\u001b[0m\u001b[0mi\u001b[0m\u001b[0;34m]\u001b[0m\u001b[0;34m)\u001b[0m\u001b[0;34m\u001b[0m\u001b[0m\n",
      "\u001b[0;32m~/.virtualenvs/facecourse-py3/lib/python3.5/site-packages/torchvision/transforms/transforms.py\u001b[0m in \u001b[0;36m__call__\u001b[0;34m(self, pic)\u001b[0m\n\u001b[1;32m    108\u001b[0m \u001b[0;34m\u001b[0m\u001b[0m\n\u001b[1;32m    109\u001b[0m         \"\"\"\n\u001b[0;32m--> 110\u001b[0;31m         \u001b[0;32mreturn\u001b[0m \u001b[0mF\u001b[0m\u001b[0;34m.\u001b[0m\u001b[0mto_pil_image\u001b[0m\u001b[0;34m(\u001b[0m\u001b[0mpic\u001b[0m\u001b[0;34m,\u001b[0m \u001b[0mself\u001b[0m\u001b[0;34m.\u001b[0m\u001b[0mmode\u001b[0m\u001b[0;34m)\u001b[0m\u001b[0;34m\u001b[0m\u001b[0m\n\u001b[0m\u001b[1;32m    111\u001b[0m \u001b[0;34m\u001b[0m\u001b[0m\n\u001b[1;32m    112\u001b[0m     \u001b[0;32mdef\u001b[0m \u001b[0m__repr__\u001b[0m\u001b[0;34m(\u001b[0m\u001b[0mself\u001b[0m\u001b[0;34m)\u001b[0m\u001b[0;34m:\u001b[0m\u001b[0;34m\u001b[0m\u001b[0m\n",
      "\u001b[0;32m~/.virtualenvs/facecourse-py3/lib/python3.5/site-packages/torchvision/transforms/functional.py\u001b[0m in \u001b[0;36mto_pil_image\u001b[0;34m(pic, mode)\u001b[0m\n\u001b[1;32m    101\u001b[0m     \"\"\"\n\u001b[1;32m    102\u001b[0m     \u001b[0;32mif\u001b[0m \u001b[0;32mnot\u001b[0m\u001b[0;34m(\u001b[0m\u001b[0m_is_numpy_image\u001b[0m\u001b[0;34m(\u001b[0m\u001b[0mpic\u001b[0m\u001b[0;34m)\u001b[0m \u001b[0;32mor\u001b[0m \u001b[0m_is_tensor_image\u001b[0m\u001b[0;34m(\u001b[0m\u001b[0mpic\u001b[0m\u001b[0;34m)\u001b[0m\u001b[0;34m)\u001b[0m\u001b[0;34m:\u001b[0m\u001b[0;34m\u001b[0m\u001b[0m\n\u001b[0;32m--> 103\u001b[0;31m         \u001b[0;32mraise\u001b[0m \u001b[0mTypeError\u001b[0m\u001b[0;34m(\u001b[0m\u001b[0;34m'pic should be Tensor or ndarray. Got {}.'\u001b[0m\u001b[0;34m.\u001b[0m\u001b[0mformat\u001b[0m\u001b[0;34m(\u001b[0m\u001b[0mtype\u001b[0m\u001b[0;34m(\u001b[0m\u001b[0mpic\u001b[0m\u001b[0;34m)\u001b[0m\u001b[0;34m)\u001b[0m\u001b[0;34m)\u001b[0m\u001b[0;34m\u001b[0m\u001b[0m\n\u001b[0m\u001b[1;32m    104\u001b[0m \u001b[0;34m\u001b[0m\u001b[0m\n\u001b[1;32m    105\u001b[0m     \u001b[0mnpimg\u001b[0m \u001b[0;34m=\u001b[0m \u001b[0mpic\u001b[0m\u001b[0;34m\u001b[0m\u001b[0m\n",
      "\u001b[0;31mTypeError\u001b[0m: pic should be Tensor or ndarray. Got <class 'torch.FloatTensor'>."
     ]
    },
    {
     "data": {
      "image/png": "[encoded data removed]",
      "text/plain": [
       "<Figure size 216x216 with 1 Axes>"
      ]
     },
     "metadata": {
      "needs_background": "light"
     },
     "output_type": "display_data"
    }
   ],
   "source": [
    "i = 0\n",
    "for m in model.modules():\n",
    "    if isinstance(m, nn.Linear):\n",
    "        if i == 0:\n",
    "            plot_kernels(m.weight.data)\n",
    "#       plt.savefig('result.png')"
   ]
  },
  {
   "cell_type": "code",
   "execution_count": 85,
   "metadata": {},
   "outputs": [
    {
     "ename": "AttributeError",
     "evalue": "'Net' object has no attribute 'layers'",
     "output_type": "error",
     "traceback": [
      "\u001b[0;31m---------------------------------------------------------------------------\u001b[0m",
      "\u001b[0;31mAttributeError\u001b[0m                            Traceback (most recent call last)",
      "\u001b[0;32m<ipython-input-85-a9a0ee73176c>\u001b[0m in \u001b[0;36m<module>\u001b[0;34m\u001b[0m\n\u001b[1;32m      1\u001b[0m \u001b[0;34m\u001b[0m\u001b[0m\n\u001b[1;32m      2\u001b[0m \u001b[0;31m# Visualize weights\u001b[0m\u001b[0;34m\u001b[0m\u001b[0;34m\u001b[0m\u001b[0m\n\u001b[0;32m----> 3\u001b[0;31m \u001b[0mW\u001b[0m \u001b[0;34m=\u001b[0m \u001b[0mmodel\u001b[0m\u001b[0;34m.\u001b[0m\u001b[0mlayers\u001b[0m\u001b[0;34m[\u001b[0m\u001b[0;36m0\u001b[0m\u001b[0;34m]\u001b[0m\u001b[0;34m.\u001b[0m\u001b[0mW\u001b[0m\u001b[0;34m.\u001b[0m\u001b[0mget_value\u001b[0m\u001b[0;34m(\u001b[0m\u001b[0mborrow\u001b[0m\u001b[0;34m=\u001b[0m\u001b[0;32mTrue\u001b[0m\u001b[0;34m)\u001b[0m\u001b[0;34m\u001b[0m\u001b[0m\n\u001b[0m\u001b[1;32m      4\u001b[0m \u001b[0mW\u001b[0m \u001b[0;34m=\u001b[0m \u001b[0mnp\u001b[0m\u001b[0;34m.\u001b[0m\u001b[0msqueeze\u001b[0m\u001b[0;34m(\u001b[0m\u001b[0mW\u001b[0m\u001b[0;34m)\u001b[0m\u001b[0;34m\u001b[0m\u001b[0m\n\u001b[1;32m      5\u001b[0m \u001b[0mprint\u001b[0m\u001b[0;34m(\u001b[0m\u001b[0;34m\"W shape : \"\u001b[0m\u001b[0;34m,\u001b[0m \u001b[0mW\u001b[0m\u001b[0;34m.\u001b[0m\u001b[0mshape\u001b[0m\u001b[0;34m)\u001b[0m\u001b[0;34m\u001b[0m\u001b[0m\n",
      "\u001b[0;32m~/.virtualenvs/facecourse-py3/lib/python3.5/site-packages/torch/nn/modules/module.py\u001b[0m in \u001b[0;36m__getattr__\u001b[0;34m(self, name)\u001b[0m\n\u001b[1;32m    260\u001b[0m                 \u001b[0;32mreturn\u001b[0m \u001b[0mmodules\u001b[0m\u001b[0;34m[\u001b[0m\u001b[0mname\u001b[0m\u001b[0;34m]\u001b[0m\u001b[0;34m\u001b[0m\u001b[0m\n\u001b[1;32m    261\u001b[0m         raise AttributeError(\"'{}' object has no attribute '{}'\".format(\n\u001b[0;32m--> 262\u001b[0;31m             type(self).__name__, name))\n\u001b[0m\u001b[1;32m    263\u001b[0m \u001b[0;34m\u001b[0m\u001b[0m\n\u001b[1;32m    264\u001b[0m     \u001b[0;32mdef\u001b[0m \u001b[0m__setattr__\u001b[0m\u001b[0;34m(\u001b[0m\u001b[0mself\u001b[0m\u001b[0;34m,\u001b[0m \u001b[0mname\u001b[0m\u001b[0;34m,\u001b[0m \u001b[0mvalue\u001b[0m\u001b[0;34m)\u001b[0m\u001b[0;34m:\u001b[0m\u001b[0;34m\u001b[0m\u001b[0m\n",
      "\u001b[0;31mAttributeError\u001b[0m: 'Net' object has no attribute 'layers'"
     ]
    }
   ],
   "source": [
    "\n",
    "# Visualize weights\n",
    "W = model.layers[0].W.get_value(borrow=True)\n",
    "W = np.squeeze(W)\n",
    "print(\"W shape : \", W.shape)\n",
    "\n",
    "pl.figure(figsize=(15, 15))\n",
    "pl.title('conv1 weights')\n",
    "nice_imshow(pl.gca(), make_mosaic(W, 6, 6), cmap=cm.binary)"
   ]
  },
  {
   "cell_type": "code",
   "execution_count": 90,
   "metadata": {},
   "outputs": [
    {
     "data": {
      "text/plain": [
       "torch.FloatTensor"
      ]
     },
     "execution_count": 90,
     "metadata": {},
     "output_type": "execute_result"
    }
   ],
   "source": [
    "type(m.weight.data)"
   ]
  },
  {
   "cell_type": "markdown",
   "metadata": {},
   "source": [
    "### 4. Evaluate Model\n",
    "#### 4.1 Output Plots"
   ]
  },
  {
   "cell_type": "code",
   "execution_count": 48,
   "metadata": {},
   "outputs": [
    {
     "data": {
      "text/plain": [
       "<matplotlib.legend.Legend at 0x7fd17bb4d208>"
      ]
     },
     "execution_count": 48,
     "metadata": {},
     "output_type": "execute_result"
    },
    {
     "data": {
      "image/png": "[encoded data removed]",
      "text/plain": [
       "<Figure size 432x288 with 1 Axes>"
      ]
     },
     "metadata": {
      "needs_background": "light"
     },
     "output_type": "display_data"
    }
   ],
   "source": [
    "\n",
    "# plot the training progress\n",
    "plt.plot(range(0, len(test_accuracies)), test_accuracies, range(0, len(train_accuracies)), train_accuracies)\n",
    "plt.xlabel('number of epochs')\n",
    "# plt.xlim([0, len(train_loss)])\n",
    "plt.ylabel('Accuracies')\n",
    "# plt.ylim([0.0, 1.0])\n",
    "plt.title('Flower Classifier: Accuracy vs Epochs')\n",
    "plt.legend(['test accuracy','training accuracy'])"
   ]
  },
  {
   "cell_type": "code",
   "execution_count": 49,
   "metadata": {},
   "outputs": [
    {
     "data": {
      "text/plain": [
       "Text(0.5, 1.0, 'Flower Classifier: Loss vs Epochs')"
      ]
     },
     "execution_count": 49,
     "metadata": {},
     "output_type": "execute_result"
    },
    {
     "data": {
      "image/png": "[encoded data removed]",
      "text/plain": [
       "<Figure size 432x288 with 1 Axes>"
      ]
     },
     "metadata": {
      "needs_background": "light"
     },
     "output_type": "display_data"
    }
   ],
   "source": [
    "# plot the training progress\n",
    "plt.plot(range(0, len(train_losses)), train_losses)\n",
    "plt.xlabel('training iterations')\n",
    "# plt.xlim([0, len(train_loss)])\n",
    "plt.ylabel('Training Loss')\n",
    "# plt.ylim([0.0, 1.0])\n",
    "plt.title('Flower Classifier: Loss vs Epochs')"
   ]
  }
 ],
 "metadata": {
  "kernelspec": {
   "display_name": "Python 3",
   "language": "python",
   "name": "python3"
  },
  "language_info": {
   "codemirror_mode": {
    "name": "ipython",
    "version": 3
   },
   "file_extension": ".py",
   "mimetype": "text/x-python",
   "name": "python",
   "nbconvert_exporter": "python",
   "pygments_lexer": "ipython3",
   "version": "3.5.2"
  }
 },
 "nbformat": 4,
 "nbformat_minor": 2
}
